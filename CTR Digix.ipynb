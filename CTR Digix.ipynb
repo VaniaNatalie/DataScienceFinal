{
 "cells": [
  {
   "cell_type": "code",
   "execution_count": 358,
   "metadata": {},
   "outputs": [],
   "source": [
    "import pandas as pd\n",
    "import numpy as np\n",
    "import matplotlib.pyplot as plt\n",
    "import seaborn as sns\n",
    "\n",
    "from sklearn.linear_model import LogisticRegression\n",
    "from sklearn.tree import DecisionTreeClassifier\n",
    "from lightgbm import LGBMClassifier\n",
    "from xgboost import XGBClassifier\n",
    "from sklearn.ensemble import RandomForestClassifier\n",
    "import lightgbm as lgb\n",
    "import xgboost as xgb\n",
    "\n",
    "from sklearn.metrics import (f1_score, confusion_matrix, classification_report, log_loss, \n",
    "                             roc_auc_score, confusion_matrix, ConfusionMatrixDisplay , accuracy_score)\n",
    "from sklearn.model_selection import GridSearchCV, StratifiedKFold, train_test_split\n",
    "from collections import Counter\n",
    "from sklearn.preprocessing import LabelEncoder\n",
    "from sklearn.preprocessing import StandardScaler, MinMaxScaler\n",
    "\n",
    "from imblearn.over_sampling import SMOTE\n",
    "from imblearn.under_sampling import RandomUnderSampler\n",
    "from sklearn.feature_selection import chi2, SelectKBest"
   ]
  },
  {
   "cell_type": "code",
   "execution_count": 3,
   "metadata": {},
   "outputs": [],
   "source": [
    "# Load csv file\n",
    "dfTrain = pd.read_csv('train_data.csv', sep='|')"
   ]
  },
  {
   "cell_type": "code",
   "execution_count": null,
   "metadata": {},
   "outputs": [],
   "source": [
    "# Remove age values that is equal to -1\n",
    "dfTrain = dfTrain[dfTrain.age != -1]\n",
    "# Remove label values that is equal to NaN\n",
    "dfTrain = dfTrain.loc[dfTrain['label'].notnull()]"
   ]
  },
  {
   "cell_type": "code",
   "execution_count": 4,
   "metadata": {},
   "outputs": [
    {
     "name": "stdout",
     "output_type": "stream",
     "text": [
      "<class 'pandas.core.frame.DataFrame'>\n",
      "RangeIndex: 41907133 entries, 0 to 41907132\n",
      "Data columns (total 36 columns):\n",
      " #   Column                       Dtype \n",
      "---  ------                       ----- \n",
      " 0   label                        int64 \n",
      " 1   uid                          int64 \n",
      " 2   task_id                      int64 \n",
      " 3   adv_id                       int64 \n",
      " 4   creat_type_cd                int64 \n",
      " 5   adv_prim_id                  int64 \n",
      " 6   dev_id                       int64 \n",
      " 7   inter_type_cd                int64 \n",
      " 8   slot_id                      int64 \n",
      " 9   spread_app_id                int64 \n",
      " 10  tags                         int64 \n",
      " 11  app_first_class              int64 \n",
      " 12  app_second_class             int64 \n",
      " 13  age                          int64 \n",
      " 14  city                         int64 \n",
      " 15  city_rank                    int64 \n",
      " 16  device_name                  int64 \n",
      " 17  device_size                  int64 \n",
      " 18  career                       int64 \n",
      " 19  gender                       int64 \n",
      " 20  net_type                     int64 \n",
      " 21  residence                    int64 \n",
      " 22  his_app_size                 int64 \n",
      " 23  his_on_shelf_time            int64 \n",
      " 24  app_score                    int64 \n",
      " 25  emui_dev                     int64 \n",
      " 26  list_time                    int64 \n",
      " 27  device_price                 int64 \n",
      " 28  up_life_duration             int64 \n",
      " 29  up_membership_grade          int64 \n",
      " 30  membership_life_duration     int64 \n",
      " 31  consume_purchase             int64 \n",
      " 32  communication_onlinerate     object\n",
      " 33  communication_avgonline_30d  int64 \n",
      " 34  indu_name                    int64 \n",
      " 35  pt_d                         int64 \n",
      "dtypes: int64(35), object(1)\n",
      "memory usage: 11.2+ GB\n"
     ]
    }
   ],
   "source": [
    "dfTrain.info()"
   ]
  },
  {
   "cell_type": "code",
   "execution_count": 11,
   "metadata": {},
   "outputs": [],
   "source": [
    "# Group trainData by age\n",
    "userSubsetGroup = dfTrain.groupby(['age'])\n",
    "\n",
    "# Take 50,000 rows for every age group ranging from 1 to 7. Set replace=False to remove permission of any repeating rows\n",
    "userAge1 = userSubsetGroup.get_group(1).sample(n=50000, replace=False)\n",
    "userAge2 = userSubsetGroup.get_group(2).sample(n=50000, replace=False)\n",
    "userAge3 = userSubsetGroup.get_group(3).sample(n=50000, replace=False)\n",
    "userAge4 = userSubsetGroup.get_group(4).sample(n=50000, replace=False)\n",
    "userAge5 = userSubsetGroup.get_group(5).sample(n=50000, replace=False)\n",
    "userAge6 = userSubsetGroup.get_group(6).sample(n=50000, replace=False)\n",
    "userAge7 = userSubsetGroup.get_group(7).sample(n=50000, replace=False)\n",
    "\n",
    "# Append every age groups into one and convert it into a csv file\n",
    "userAgeGroup = userAge1.append([userAge2, userAge3, userAge4, userAge5, userAge6, userAge7])\n",
    "userAgeGroup.to_csv('ageGroup.csv', index=False)"
   ]
  },
  {
   "cell_type": "code",
   "execution_count": 481,
   "metadata": {},
   "outputs": [
    {
     "data": {
      "text/html": [
       "<div>\n",
       "<style scoped>\n",
       "    .dataframe tbody tr th:only-of-type {\n",
       "        vertical-align: middle;\n",
       "    }\n",
       "\n",
       "    .dataframe tbody tr th {\n",
       "        vertical-align: top;\n",
       "    }\n",
       "\n",
       "    .dataframe thead th {\n",
       "        text-align: right;\n",
       "    }\n",
       "</style>\n",
       "<table border=\"1\" class=\"dataframe\">\n",
       "  <thead>\n",
       "    <tr style=\"text-align: right;\">\n",
       "      <th></th>\n",
       "      <th>label</th>\n",
       "      <th>task_id</th>\n",
       "      <th>adv_id</th>\n",
       "      <th>creat_type_cd</th>\n",
       "      <th>adv_prim_id</th>\n",
       "      <th>dev_id</th>\n",
       "      <th>inter_type_cd</th>\n",
       "      <th>slot_id</th>\n",
       "      <th>spread_app_id</th>\n",
       "      <th>tags</th>\n",
       "      <th>...</th>\n",
       "      <th>emui_dev</th>\n",
       "      <th>list_time</th>\n",
       "      <th>device_price</th>\n",
       "      <th>up_life_duration</th>\n",
       "      <th>up_membership_grade</th>\n",
       "      <th>membership_life_duration</th>\n",
       "      <th>consume_purchase</th>\n",
       "      <th>communication_avgonline_30d</th>\n",
       "      <th>indu_name</th>\n",
       "      <th>pt_d</th>\n",
       "    </tr>\n",
       "  </thead>\n",
       "  <tbody>\n",
       "    <tr>\n",
       "      <th>0</th>\n",
       "      <td>0</td>\n",
       "      <td>2521</td>\n",
       "      <td>1925</td>\n",
       "      <td>7</td>\n",
       "      <td>207</td>\n",
       "      <td>17</td>\n",
       "      <td>5</td>\n",
       "      <td>21</td>\n",
       "      <td>13</td>\n",
       "      <td>37</td>\n",
       "      <td>...</td>\n",
       "      <td>14</td>\n",
       "      <td>13</td>\n",
       "      <td>2</td>\n",
       "      <td>0</td>\n",
       "      <td>0</td>\n",
       "      <td>0</td>\n",
       "      <td>2</td>\n",
       "      <td>11</td>\n",
       "      <td>17</td>\n",
       "      <td>1</td>\n",
       "    </tr>\n",
       "    <tr>\n",
       "      <th>1</th>\n",
       "      <td>0</td>\n",
       "      <td>3456</td>\n",
       "      <td>3720</td>\n",
       "      <td>7</td>\n",
       "      <td>107</td>\n",
       "      <td>15</td>\n",
       "      <td>5</td>\n",
       "      <td>21</td>\n",
       "      <td>46</td>\n",
       "      <td>39</td>\n",
       "      <td>...</td>\n",
       "      <td>14</td>\n",
       "      <td>10</td>\n",
       "      <td>3</td>\n",
       "      <td>14</td>\n",
       "      <td>0</td>\n",
       "      <td>0</td>\n",
       "      <td>2</td>\n",
       "      <td>12</td>\n",
       "      <td>36</td>\n",
       "      <td>1</td>\n",
       "    </tr>\n",
       "    <tr>\n",
       "      <th>2</th>\n",
       "      <td>0</td>\n",
       "      <td>3854</td>\n",
       "      <td>3367</td>\n",
       "      <td>7</td>\n",
       "      <td>207</td>\n",
       "      <td>17</td>\n",
       "      <td>5</td>\n",
       "      <td>17</td>\n",
       "      <td>13</td>\n",
       "      <td>37</td>\n",
       "      <td>...</td>\n",
       "      <td>27</td>\n",
       "      <td>17</td>\n",
       "      <td>4</td>\n",
       "      <td>11</td>\n",
       "      <td>0</td>\n",
       "      <td>0</td>\n",
       "      <td>5</td>\n",
       "      <td>13</td>\n",
       "      <td>17</td>\n",
       "      <td>1</td>\n",
       "    </tr>\n",
       "    <tr>\n",
       "      <th>3</th>\n",
       "      <td>0</td>\n",
       "      <td>3401</td>\n",
       "      <td>1766</td>\n",
       "      <td>7</td>\n",
       "      <td>156</td>\n",
       "      <td>56</td>\n",
       "      <td>5</td>\n",
       "      <td>14</td>\n",
       "      <td>58</td>\n",
       "      <td>37</td>\n",
       "      <td>...</td>\n",
       "      <td>20</td>\n",
       "      <td>14</td>\n",
       "      <td>5</td>\n",
       "      <td>14</td>\n",
       "      <td>0</td>\n",
       "      <td>0</td>\n",
       "      <td>2</td>\n",
       "      <td>11</td>\n",
       "      <td>17</td>\n",
       "      <td>1</td>\n",
       "    </tr>\n",
       "    <tr>\n",
       "      <th>4</th>\n",
       "      <td>0</td>\n",
       "      <td>3219</td>\n",
       "      <td>6128</td>\n",
       "      <td>4</td>\n",
       "      <td>143</td>\n",
       "      <td>60</td>\n",
       "      <td>3</td>\n",
       "      <td>17</td>\n",
       "      <td>78</td>\n",
       "      <td>23</td>\n",
       "      <td>...</td>\n",
       "      <td>12</td>\n",
       "      <td>9</td>\n",
       "      <td>4</td>\n",
       "      <td>0</td>\n",
       "      <td>0</td>\n",
       "      <td>0</td>\n",
       "      <td>2</td>\n",
       "      <td>11</td>\n",
       "      <td>37</td>\n",
       "      <td>1</td>\n",
       "    </tr>\n",
       "  </tbody>\n",
       "</table>\n",
       "<p>5 rows × 34 columns</p>\n",
       "</div>"
      ],
      "text/plain": [
       "   label  task_id  adv_id  creat_type_cd  adv_prim_id  dev_id  inter_type_cd  \\\n",
       "0      0     2521    1925              7          207      17              5   \n",
       "1      0     3456    3720              7          107      15              5   \n",
       "2      0     3854    3367              7          207      17              5   \n",
       "3      0     3401    1766              7          156      56              5   \n",
       "4      0     3219    6128              4          143      60              3   \n",
       "\n",
       "   slot_id  spread_app_id  tags  ...  emui_dev  list_time  device_price  \\\n",
       "0       21             13    37  ...        14         13             2   \n",
       "1       21             46    39  ...        14         10             3   \n",
       "2       17             13    37  ...        27         17             4   \n",
       "3       14             58    37  ...        20         14             5   \n",
       "4       17             78    23  ...        12          9             4   \n",
       "\n",
       "   up_life_duration  up_membership_grade  membership_life_duration  \\\n",
       "0                 0                    0                         0   \n",
       "1                14                    0                         0   \n",
       "2                11                    0                         0   \n",
       "3                14                    0                         0   \n",
       "4                 0                    0                         0   \n",
       "\n",
       "   consume_purchase  communication_avgonline_30d  indu_name  pt_d  \n",
       "0                 2                           11         17     1  \n",
       "1                 2                           12         36     1  \n",
       "2                 5                           13         17     1  \n",
       "3                 2                           11         17     1  \n",
       "4                 2                           11         37     1  \n",
       "\n",
       "[5 rows x 34 columns]"
      ]
     },
     "execution_count": 481,
     "metadata": {},
     "output_type": "execute_result"
    }
   ],
   "source": [
    "# Load csv file\n",
    "ageGroup = pd.read_csv('ageGroup.csv', sep=',')\n",
    "ageGroup = ageGroup.drop('communication_onlinerate', axis=1)\n",
    "ageGroup = ageGroup.drop('uid', axis=1)\n",
    "ageGroup[ageGroup < 0] = 0\n",
    "ageGroup.head()"
   ]
  },
  {
   "cell_type": "code",
   "execution_count": 482,
   "metadata": {},
   "outputs": [],
   "source": [
    "# Features variable\n",
    "x = ageGroup.drop(['label'], axis=1)\n",
    "# Target variable\n",
    "y = ageGroup[\"label\"]\n",
    "y = LabelEncoder().fit_transform(y)"
   ]
  },
  {
   "cell_type": "code",
   "execution_count": 382,
   "metadata": {},
   "outputs": [
    {
     "data": {
      "image/png": "[encoded data removed]",
      "text/plain": [
       "<Figure size 720x432 with 1 Axes>"
      ]
     },
     "metadata": {
      "needs_background": "light"
     },
     "output_type": "display_data"
    }
   ],
   "source": [
    "# Initializing a figure and subplot axes\n",
    "fig, ax = plt.subplots(figsize=(10, 6))\n",
    "\n",
    "# Plot bar graph in seaborn\n",
    "barGraph = sns.barplot(ageGroup['label'], ageGroup['label'], estimator=lambda x: (len(x) / len(ageGroup)))\n",
    "\n",
    "# Annotate bars with values\n",
    "for p in barGraph.patches:\n",
    "    width, height = p.get_width(), p.get_height()\n",
    "    x_graph, y_graph = p.get_xy() \n",
    "    barGraph.text(x_graph+width/2, \n",
    "           y_graph+height, \n",
    "           '{0:.1%}'.format(height), \n",
    "           horizontalalignment='center',fontsize=12)\n",
    "\n",
    "# Set the xy labels and the title\n",
    "ax.set_xlabel('Clicked')\n",
    "ax.set_ylabel('Percentage')\n",
    "ax.set_title('Percentage of users click rate')\n",
    "\n",
    "# Display the data visualization \n",
    "plt.show() "
   ]
  },
  {
   "cell_type": "code",
   "execution_count": 483,
   "metadata": {},
   "outputs": [],
   "source": [
    "# Train test split with stratifiedKfold, train: 80% test: 20%\n",
    "\n",
    "cv = StratifiedKFold(n_splits=5, shuffle=True)\n",
    "for train_idx, test_idx in cv.split(x, y):\n",
    "    x_train, y_train = x.iloc[train_idx], y[train_idx]\n",
    "    x_test, y_test = x.iloc[test_idx], y[test_idx]"
   ]
  },
  {
   "cell_type": "code",
   "execution_count": 484,
   "metadata": {},
   "outputs": [
    {
     "name": "stdout",
     "output_type": "stream",
     "text": [
      "Index(['task_id', 'adv_id', 'adv_prim_id', 'dev_id', 'slot_id', 'tags',\n",
      "       'device_size', 'career', 'up_life_duration', 'indu_name'],\n",
      "      dtype='object')\n"
     ]
    }
   ],
   "source": [
    "# Select 10 features with k highest score\n",
    "select_feature = SelectKBest(chi2, k=10).fit(x_train, y_train)\n",
    "\n",
    "# Transform x train and x test data with the selected feature\n",
    "x_train = pd.DataFrame(select_feature.transform(x_train), columns = x_train.columns[select_feature.get_support()])\n",
    "x_test = pd.DataFrame(select_feature.transform(x_test), columns = x_test.columns[select_feature.get_support()])\n",
    "\n",
    "print(x_train.columns)\n",
    "\n",
    "# Oversample\n",
    "over = SMOTE()\n",
    "\n",
    "# Resample the train and test data with oversampling method\n",
    "x_train_oversample, y_train_oversample = over.fit_resample(x_train, y_train)  \n",
    "x_test_oversample, y_test_oversample = over.fit_resample(x_test, y_test)  "
   ]
  },
  {
   "cell_type": "code",
   "execution_count": 497,
   "metadata": {},
   "outputs": [
    {
     "data": {
      "text/plain": [
       "Text(0, 0.5, '')"
      ]
     },
     "execution_count": 497,
     "metadata": {},
     "output_type": "execute_result"
    },
    {
     "data": {
      "image/png": "[encoded data removed]",
      "text/plain": [
       "<Figure size 720x288 with 2 Axes>"
      ]
     },
     "metadata": {
      "needs_background": "light"
     },
     "output_type": "display_data"
    }
   ],
   "source": [
    "# Show graph to visualize the oversampled train and test data \n",
    "fig, axs = plt.subplots(ncols=2, figsize=(10,4))\n",
    "sns.countplot(y_train_oversample, ax=axs[0])\n",
    "sns.countplot(y_test_oversample, ax=axs[1])\n",
    "axs[0].set_title('Oversampled Train Data')\n",
    "axs[1].set_title('Oversampled Test Data')\n",
    "axs[1].set_ylabel('')"
   ]
  },
  {
   "cell_type": "code",
   "execution_count": 22,
   "metadata": {},
   "outputs": [],
   "source": [
    "# Function for printing ROC and f1 score\n",
    "def print_results(ytest, ypred, ypredproba):\n",
    "    roc = roc_auc_score(ytest, ypredproba[:,1], average='weighted')\n",
    "    f1 = f1_score(ytest, ypred, average='weighted')\n",
    "    print('[ Metrics Evaluation ]\\n')\n",
    "    print('ROC Auc:    {}'.format(roc))\n",
    "    print('f1 Score:     {}'.format(f1))\n",
    "    print(('Classification Report:\\n{}'.format(classification_report(ytest, ypred))))\n",
    "    return roc, f1"
   ]
  },
  {
   "cell_type": "markdown",
   "metadata": {},
   "source": [
    "### LightGBM Classifier"
   ]
  },
  {
   "cell_type": "code",
   "execution_count": 21,
   "metadata": {},
   "outputs": [
    {
     "name": "stdout",
     "output_type": "stream",
     "text": [
      "Fitting 5 folds for each of 5 candidates, totalling 25 fits\n",
      "Best score: 0.9283309595037931 using {'max_depth': 19}\n"
     ]
    }
   ],
   "source": [
    "paramGrid = dict(max_depth= range(15, 20, 1))\n",
    "\n",
    "gridSearch = GridSearchCV(lgbm, \n",
    "                           paramGrid, \n",
    "                           cv=5,\n",
    "                           scoring=\"roc_auc\", \n",
    "                           n_jobs=-1,\n",
    "                           verbose=1)\n",
    "               \n",
    "gridSearchResult = gridSearch.fit(x_train_oversample, y_train_oversample)\n",
    "print(f'Best score: {gridSearchResult.best_score_} using {gridSearchResult.best_params_}')"
   ]
  },
  {
   "cell_type": "code",
   "execution_count": 550,
   "metadata": {},
   "outputs": [
    {
     "name": "stdout",
     "output_type": "stream",
     "text": [
      "Fitting 5 folds for each of 50 candidates, totalling 250 fits\n",
      "Best score: 0.9281324598623865 using {'num_leaves': 248}\n"
     ]
    }
   ],
   "source": [
    "paramGrid = dict(num_leaves=range(200, 250, 1))\n",
    "\n",
    "gridSearch = GridSearchCV(lgbm, \n",
    "                           paramGrid, \n",
    "                           cv=5,\n",
    "                           scoring=\"roc_auc\", \n",
    "                           n_jobs=-1,\n",
    "                           verbose=1)\n",
    "               \n",
    "gridSearchResult = gridSearch.fit(x_train_oversample, y_train_oversample)\n",
    "print(f'Best score: {gridSearchResult.best_score_} using {gridSearchResult.best_params_}')"
   ]
  },
  {
   "cell_type": "code",
   "execution_count": 402,
   "metadata": {},
   "outputs": [
    {
     "name": "stdout",
     "output_type": "stream",
     "text": [
      "[ Metrics Evaluation ]\n",
      "\n",
      "ROC Auc:    0.9457535279931729\n",
      "f1 Score:     0.8700541417777424\n",
      "Classification Report:\n",
      "              precision    recall  f1-score   support\n",
      "\n",
      "           0       0.87      0.87      0.87     67228\n",
      "           1       0.87      0.87      0.87     67228\n",
      "\n",
      "    accuracy                           0.87    134456\n",
      "   macro avg       0.87      0.87      0.87    134456\n",
      "weighted avg       0.87      0.87      0.87    134456\n",
      "\n",
      "[58501  8727  8745 58483]\n"
     ]
    }
   ],
   "source": [
    "# LightGBM (oversample train & test data)\n",
    "\n",
    "lgbm_params = {\n",
    "    'max_depth': 19, \n",
    "    'num_leaves': 248, \n",
    "    'metrics' : 'auc', \n",
    "    'application':'binary', \n",
    "}\n",
    "\n",
    "lgbm = LGBMClassifier()\n",
    "lgbm.set_params(**lgbm_params)\n",
    "\n",
    "lgbm.fit(x_train_oversample, y_train_oversample)\n",
    "\n",
    "y_pred_oversample = lgbm.predict(x_test_oversample)\n",
    "y_predproba_oversample = lgbm.predict_proba(x_test_oversample)      \n",
    "\n",
    "roc_lgbm_oversample, f1_lgbm_oversample = print_results(y_test_oversample, y_pred_oversample, y_predproba_oversample)  \n",
    "print(confusion_matrix(y_test_oversample, y_pred_oversample).ravel())"
   ]
  },
  {
   "cell_type": "code",
   "execution_count": 403,
   "metadata": {},
   "outputs": [
    {
     "data": {
      "text/plain": [
       "<sklearn.metrics._plot.confusion_matrix.ConfusionMatrixDisplay at 0x20406334c70>"
      ]
     },
     "execution_count": 403,
     "metadata": {},
     "output_type": "execute_result"
    },
    {
     "data": {
      "image/png": "[encoded data removed]",
      "text/plain": [
       "<Figure size 432x288 with 2 Axes>"
      ]
     },
     "metadata": {
      "needs_background": "light"
     },
     "output_type": "display_data"
    }
   ],
   "source": [
    "cm = confusion_matrix(y_test_oversample, y_pred_oversample, labels=lgbm.classes_)\n",
    "cm_display = ConfusionMatrixDisplay(confusion_matrix=cm, display_labels=lgbm.classes_)\n",
    "cm_display.plot()"
   ]
  },
  {
   "cell_type": "code",
   "execution_count": 404,
   "metadata": {},
   "outputs": [
    {
     "name": "stdout",
     "output_type": "stream",
     "text": [
      "[ Metrics Evaluation ]\n",
      "\n",
      "ROC Auc:    0.6634217808133439\n",
      "f1 Score:     0.8867589379005262\n",
      "Classification Report:\n",
      "              precision    recall  f1-score   support\n",
      "\n",
      "           0       0.97      0.87      0.92     67228\n",
      "           1       0.10      0.34      0.15      2772\n",
      "\n",
      "    accuracy                           0.85     70000\n",
      "   macro avg       0.53      0.60      0.53     70000\n",
      "weighted avg       0.93      0.85      0.89     70000\n",
      "\n",
      "[58501  8727  1842   930]\n"
     ]
    }
   ],
   "source": [
    "# LightGBM Classifier (oversample train data)\n",
    "\n",
    "lgbm_params = {\n",
    "    'max_depth': 19, \n",
    "    'num_leaves': 248, \n",
    "    'metrics' : 'auc', \n",
    "    'application':'binary', \n",
    "}\n",
    "\n",
    "lgbm = LGBMClassifier()\n",
    "lgbm.set_params(**lgbm_params)\n",
    "\n",
    "lgbm.fit(x_train_oversample, y_train_oversample)\n",
    "\n",
    "\n",
    "y_pred = lgbm.predict(x_test)\n",
    "y_predproba = lgbm.predict_proba(x_test)      \n",
    "\n",
    "roc_lgbm, f1_lgbm = print_results(y_test,y_pred, y_predproba) \n",
    "print(confusion_matrix(y_test, y_pred).ravel())"
   ]
  },
  {
   "cell_type": "code",
   "execution_count": 405,
   "metadata": {},
   "outputs": [
    {
     "data": {
      "text/plain": [
       "<sklearn.metrics._plot.confusion_matrix.ConfusionMatrixDisplay at 0x20405e52fd0>"
      ]
     },
     "execution_count": 405,
     "metadata": {},
     "output_type": "execute_result"
    },
    {
     "data": {
      "image/png": "[encoded data removed]",
      "text/plain": [
       "<Figure size 432x288 with 2 Axes>"
      ]
     },
     "metadata": {
      "needs_background": "light"
     },
     "output_type": "display_data"
    }
   ],
   "source": [
    "cm = confusion_matrix(y_test, y_pred, labels=lgbm.classes_)\n",
    "cm_display = ConfusionMatrixDisplay(confusion_matrix=cm, display_labels=lgbm.classes_)\n",
    "cm_display.plot()"
   ]
  },
  {
   "cell_type": "markdown",
   "metadata": {},
   "source": [
    "### XGBoost Classifier"
   ]
  },
  {
   "cell_type": "code",
   "execution_count": 406,
   "metadata": {},
   "outputs": [
    {
     "name": "stdout",
     "output_type": "stream",
     "text": [
      "[ Metrics Evaluation ]\n",
      "\n",
      "ROC Auc:    0.9468783487779138\n",
      "f1 Score:     0.8714165555880183\n",
      "Classification Report:\n",
      "              precision    recall  f1-score   support\n",
      "\n",
      "           0       0.88      0.85      0.87     67228\n",
      "           1       0.86      0.89      0.87     67228\n",
      "\n",
      "    accuracy                           0.87    134456\n",
      "   macro avg       0.87      0.87      0.87    134456\n",
      "weighted avg       0.87      0.87      0.87    134456\n",
      "\n",
      "[57464  9764  7520 59708]\n"
     ]
    }
   ],
   "source": [
    "# xgboost classifier (oversample train & test set)\n",
    "\n",
    "xgb_params =  {\n",
    "    'use_label_encoder': False,\n",
    "    'eval_metric': 'mlogloss'\n",
    "}\n",
    "\n",
    "xgbc = XGBClassifier()\n",
    "xgbc.set_params(**xgb_params)\n",
    "\n",
    "xgbc.fit(x_train_oversample, y_train_oversample)\n",
    "\n",
    "y_pred_oversample = xgbc.predict(x_test_oversample)\n",
    "y_predproba_oversample = xgbc.predict_proba(x_test_oversample)      \n",
    "\n",
    "roc_xgb_oversample, f1_xgb_oversample = print_results(y_test_oversample, y_pred_oversample, y_predproba_oversample)  \n",
    "print(confusion_matrix(y_test_oversample, y_pred_oversample).ravel())"
   ]
  },
  {
   "cell_type": "code",
   "execution_count": 408,
   "metadata": {},
   "outputs": [
    {
     "data": {
      "text/plain": [
       "<sklearn.metrics._plot.confusion_matrix.ConfusionMatrixDisplay at 0x20406160610>"
      ]
     },
     "execution_count": 408,
     "metadata": {},
     "output_type": "execute_result"
    },
    {
     "data": {
      "image/png": "[encoded data removed]",
      "text/plain": [
       "<Figure size 432x288 with 2 Axes>"
      ]
     },
     "metadata": {
      "needs_background": "light"
     },
     "output_type": "display_data"
    }
   ],
   "source": [
    "cm = confusion_matrix(y_test_oversample, y_pred_oversample, labels=xgbc.classes_)\n",
    "cm_display = ConfusionMatrixDisplay(confusion_matrix=cm, display_labels=xgbc.classes_)\n",
    "cm_display.plot()"
   ]
  },
  {
   "cell_type": "code",
   "execution_count": 410,
   "metadata": {},
   "outputs": [
    {
     "name": "stdout",
     "output_type": "stream",
     "text": [
      "[ Metrics Evaluation ]\n",
      "\n",
      "ROC Auc:    0.6658512033225694\n",
      "f1 Score:     0.8788899940155706\n",
      "Classification Report:\n",
      "              precision    recall  f1-score   support\n",
      "\n",
      "           0       0.97      0.85      0.91     67228\n",
      "           1       0.09      0.37      0.15      2772\n",
      "\n",
      "    accuracy                           0.84     70000\n",
      "   macro avg       0.53      0.61      0.53     70000\n",
      "weighted avg       0.94      0.84      0.88     70000\n",
      "\n",
      "[57464  9764  1752  1020]\n"
     ]
    }
   ],
   "source": [
    "# xgboost classifier\n",
    "\n",
    "xgb_params =  {\n",
    "    'use_label_encoder': False,\n",
    "    'eval_metric': 'mlogloss'\n",
    "}\n",
    "\n",
    "xgbc = XGBClassifier()\n",
    "xgbc.set_params(**xgb_params)\n",
    "\n",
    "xgbc.fit(x_train_oversample, y_train_oversample)\n",
    "\n",
    "y_pred = xgbc.predict(x_test)\n",
    "y_predproba = xgbc.predict_proba(x_test)      \n",
    "\n",
    "roc_xgb, f1_xgb = print_results(y_test,y_pred, y_predproba)\n",
    "print(confusion_matrix(y_test, y_pred).ravel())"
   ]
  },
  {
   "cell_type": "code",
   "execution_count": 411,
   "metadata": {},
   "outputs": [
    {
     "data": {
      "text/plain": [
       "<sklearn.metrics._plot.confusion_matrix.ConfusionMatrixDisplay at 0x204063fb250>"
      ]
     },
     "execution_count": 411,
     "metadata": {},
     "output_type": "execute_result"
    },
    {
     "data": {
      "image/png": "[encoded data removed]",
      "text/plain": [
       "<Figure size 432x288 with 2 Axes>"
      ]
     },
     "metadata": {
      "needs_background": "light"
     },
     "output_type": "display_data"
    }
   ],
   "source": [
    "cm = confusion_matrix(y_test, y_pred, labels=xgbc.classes_)\n",
    "cm_display = ConfusionMatrixDisplay(confusion_matrix=cm, display_labels=xgbc.classes_)\n",
    "cm_display.plot()"
   ]
  },
  {
   "cell_type": "markdown",
   "metadata": {},
   "source": [
    "### Decision Tree Classifier"
   ]
  },
  {
   "cell_type": "code",
   "execution_count": 93,
   "metadata": {},
   "outputs": [
    {
     "name": "stdout",
     "output_type": "stream",
     "text": [
      "Fitting 5 folds for each of 10 candidates, totalling 50 fits\n",
      "Best score: 0.906109302155284 using {'min_samples_split': 19}\n"
     ]
    }
   ],
   "source": [
    "paramGrid = dict(min_samples_split=range(15, 25, 1))\n",
    "\n",
    "gridSearch = GridSearchCV(dtc, \n",
    "                           paramGrid, \n",
    "                           cv=5,\n",
    "                           scoring=\"roc_auc\", \n",
    "                           n_jobs=-1,\n",
    "                           verbose=1)\n",
    "               \n",
    "gridSearchResult = gridSearch.fit(x_train_oversample, y_train_oversample)\n",
    "print(f'Best score: {gridSearchResult.best_score_} using {gridSearchResult.best_params_}')"
   ]
  },
  {
   "cell_type": "code",
   "execution_count": 33,
   "metadata": {},
   "outputs": [
    {
     "name": "stdout",
     "output_type": "stream",
     "text": [
      "Fitting 5 folds for each of 2 candidates, totalling 10 fits\n",
      "Best score: 0.8935200220895334 using {'criterion': 'entropy'}\n"
     ]
    }
   ],
   "source": [
    "paramGrid = dict(criterion=['gini', 'entropy'])\n",
    "\n",
    "gridSearch = GridSearchCV(dtc, \n",
    "                           paramGrid, \n",
    "                           cv=5,\n",
    "                           scoring=\"roc_auc\", \n",
    "                           n_jobs=-1,\n",
    "                           verbose=1)\n",
    "               \n",
    "gridSearchResult = gridSearch.fit(x_train_oversample, y_train_oversample)\n",
    "print(f'Best score: {gridSearchResult.best_score_} using {gridSearchResult.best_params_}')"
   ]
  },
  {
   "cell_type": "code",
   "execution_count": 240,
   "metadata": {},
   "outputs": [
    {
     "name": "stdout",
     "output_type": "stream",
     "text": [
      "Fitting 5 folds for each of 89 candidates, totalling 445 fits\n",
      "Best score: 0.905753419628024 using {'min_samples_leaf': 4}\n"
     ]
    }
   ],
   "source": [
    "paramGrid = dict(min_samples_leaf=range(1, 90, 1))\n",
    "\n",
    "gridSearch = GridSearchCV(dtc, \n",
    "                           paramGrid, \n",
    "                           cv=5,\n",
    "                           scoring=\"roc_auc\", \n",
    "                           n_jobs=-1,\n",
    "                           verbose=1)\n",
    "               \n",
    "gridSearchResult = gridSearch.fit(x_train_oversample, y_train_oversample)\n",
    "print(f'Best score: {gridSearchResult.best_score_} using {gridSearchResult.best_params_}')"
   ]
  },
  {
   "cell_type": "code",
   "execution_count": 218,
   "metadata": {},
   "outputs": [
    {
     "name": "stdout",
     "output_type": "stream",
     "text": [
      "Fitting 5 folds for each of 20 candidates, totalling 100 fits\n",
      "Best score: 0.9062097046676609 using {'max_depth': 46}\n"
     ]
    }
   ],
   "source": [
    "paramGrid = dict(max_depth=range(30, 50, 1))\n",
    "\n",
    "gridSearch = GridSearchCV(dtc, \n",
    "                           paramGrid, \n",
    "                           cv=5,\n",
    "                           scoring=\"roc_auc\", \n",
    "                           n_jobs=-1,\n",
    "                           verbose=1)\n",
    "               \n",
    "gridSearchResult = gridSearch.fit(x_train_oversample, y_train_oversample)\n",
    "print(f'Best score: {gridSearchResult.best_score_} using {gridSearchResult.best_params_}')"
   ]
  },
  {
   "cell_type": "code",
   "execution_count": 493,
   "metadata": {},
   "outputs": [
    {
     "name": "stdout",
     "output_type": "stream",
     "text": [
      "[ Metrics Evaluation ]\n",
      "\n",
      "ROC Auc:    0.8312878597993554\n",
      "f1 Score:     0.7689703754748289\n",
      "Classification Report:\n",
      "              precision    recall  f1-score   support\n",
      "\n",
      "           0       0.74      0.84      0.79     67228\n",
      "           1       0.82      0.70      0.75     67228\n",
      "\n",
      "    accuracy                           0.77    134456\n",
      "   macro avg       0.78      0.77      0.77    134456\n",
      "weighted avg       0.78      0.77      0.77    134456\n",
      "\n",
      "[56714 10514 20382 46846]\n"
     ]
    }
   ],
   "source": [
    "# Decision Tree Classifier (oversample train & test set)\n",
    "\n",
    "dtc_params =  {\n",
    "    'min_samples_split': 19,\n",
    "    'criterion': 'entropy',\n",
    "    'min_samples_leaf': 4,\n",
    "    'max_depth': 46\n",
    "}\n",
    "\n",
    "dtc =  DecisionTreeClassifier()\n",
    "dtc.set_params(**dtc_params)\n",
    "\n",
    "dtc.fit(x_train_oversample, y_train_oversample)\n",
    "\n",
    "y_pred_oversample = dtc.predict(x_test_oversample)\n",
    "y_predproba_oversample = dtc.predict_proba(x_test_oversample)         \n",
    "\n",
    "roc_dtc_oversample, f1_dtc_oversample = print_results(y_test_oversample, y_pred_oversample, y_predproba_oversample)  \n",
    "print(confusion_matrix(y_test_oversample, y_pred_oversample).ravel())"
   ]
  },
  {
   "cell_type": "code",
   "execution_count": 494,
   "metadata": {},
   "outputs": [
    {
     "data": {
      "text/plain": [
       "<sklearn.metrics._plot.confusion_matrix.ConfusionMatrixDisplay at 0x20406ca6bb0>"
      ]
     },
     "execution_count": 494,
     "metadata": {},
     "output_type": "execute_result"
    },
    {
     "data": {
      "image/png": "[encoded data removed]",
      "text/plain": [
       "<Figure size 432x288 with 2 Axes>"
      ]
     },
     "metadata": {
      "needs_background": "light"
     },
     "output_type": "display_data"
    }
   ],
   "source": [
    "cm = confusion_matrix(y_test_oversample, y_pred_oversample, labels=dtc.classes_)\n",
    "cm_display = ConfusionMatrixDisplay(confusion_matrix=cm, display_labels=dtc.classes_)\n",
    "cm_display.plot()"
   ]
  },
  {
   "cell_type": "code",
   "execution_count": 442,
   "metadata": {},
   "outputs": [
    {
     "name": "stdout",
     "output_type": "stream",
     "text": [
      "[ Metrics Evaluation ]\n",
      "\n",
      "ROC Auc:    0.6078879605367825\n",
      "f1 Score:     0.8720961343207491\n",
      "Classification Report:\n",
      "              precision    recall  f1-score   support\n",
      "\n",
      "           0       0.97      0.85      0.90     67228\n",
      "           1       0.08      0.32      0.13      2772\n",
      "\n",
      "    accuracy                           0.83     70000\n",
      "   macro avg       0.52      0.58      0.51     70000\n",
      "weighted avg       0.93      0.83      0.87     70000\n",
      "\n",
      "[56876 10352  1888   884]\n"
     ]
    }
   ],
   "source": [
    "# Decision Tree Classifier (oversample train set)\n",
    "\n",
    "dtc_params =  {\n",
    "    'min_samples_split': 19,\n",
    "    'criterion': 'entropy',\n",
    "    'min_samples_leaf': 4,\n",
    "    'max_depth': 46\n",
    "}\n",
    "\n",
    "dtc =  DecisionTreeClassifier()\n",
    "dtc.set_params(**dtc_params)\n",
    "\n",
    "dtc.fit(x_train_oversample, y_train_oversample)\n",
    "y_pred = dtc.predict(x_test)\n",
    "y_predproba = dtc.predict_proba(x_test)      \n",
    "\n",
    "roc_dtc, f1_dtc = print_results(y_test, y_pred, y_predproba)  \n",
    "print(confusion_matrix(y_test, y_pred).ravel()) "
   ]
  },
  {
   "cell_type": "code",
   "execution_count": 443,
   "metadata": {},
   "outputs": [
    {
     "data": {
      "text/plain": [
       "<sklearn.metrics._plot.confusion_matrix.ConfusionMatrixDisplay at 0x2040631c280>"
      ]
     },
     "execution_count": 443,
     "metadata": {},
     "output_type": "execute_result"
    },
    {
     "data": {
      "image/png": "[encoded data removed]",
      "text/plain": [
       "<Figure size 432x288 with 2 Axes>"
      ]
     },
     "metadata": {
      "needs_background": "light"
     },
     "output_type": "display_data"
    }
   ],
   "source": [
    "cm = confusion_matrix(y_test, y_pred, labels=dtc.classes_)\n",
    "cm_display = ConfusionMatrixDisplay(confusion_matrix=cm, display_labels=dtc.classes_)\n",
    "cm_display.plot()"
   ]
  },
  {
   "cell_type": "markdown",
   "metadata": {},
   "source": [
    "### Random Forest Classifier"
   ]
  },
  {
   "cell_type": "code",
   "execution_count": 162,
   "metadata": {},
   "outputs": [
    {
     "name": "stdout",
     "output_type": "stream",
     "text": [
      "Fitting 5 folds for each of 3 candidates, totalling 15 fits\n",
      "Best score: 0.9453383022202295 using {'min_samples_split': 3}\n"
     ]
    }
   ],
   "source": [
    "paramGrid = dict(min_samples_split=range(2, 5, 1))\n",
    "\n",
    "gridSearch = GridSearchCV(rfc, \n",
    "                           paramGrid, \n",
    "                           cv=5,\n",
    "                           scoring=\"roc_auc\", \n",
    "                           n_jobs=-1,\n",
    "                           verbose=1)\n",
    "               \n",
    "gridSearchResult = gridSearch.fit(x_train_oversample, y_train_oversample)\n",
    "print(f'Best score: {gridSearchResult.best_score_} using {gridSearchResult.best_params_}')"
   ]
  },
  {
   "cell_type": "code",
   "execution_count": 176,
   "metadata": {},
   "outputs": [
    {
     "name": "stdout",
     "output_type": "stream",
     "text": [
      "Fitting 5 folds for each of 5 candidates, totalling 25 fits\n",
      "Best score: 0.9392118181916238 using {'max_leaf_nodes': -18}\n"
     ]
    }
   ],
   "source": [
    "paramGrid = dict(max_leaf_nodes=range(-20, -15, 1))\n",
    "\n",
    "gridSearch = GridSearchCV(rfc, \n",
    "                           paramGrid, \n",
    "                           cv=5,\n",
    "                           scoring=\"roc_auc\", \n",
    "                           n_jobs=-1,\n",
    "                           verbose=1)\n",
    "               \n",
    "gridSearchResult = gridSearch.fit(x_train_oversample, y_train_oversample)\n",
    "print(f'Best score: {gridSearchResult.best_score_} using {gridSearchResult.best_params_}')"
   ]
  },
  {
   "cell_type": "code",
   "execution_count": 485,
   "metadata": {},
   "outputs": [
    {
     "name": "stdout",
     "output_type": "stream",
     "text": [
      "[ Metrics Evaluation ]\n",
      "\n",
      "ROC Auc:    0.8702136830844958\n",
      "f1 Score:     0.7854569689749235\n",
      "Classification Report:\n",
      "              precision    recall  f1-score   support\n",
      "\n",
      "           0       0.74      0.87      0.80     67228\n",
      "           1       0.85      0.70      0.77     67228\n",
      "\n",
      "    accuracy                           0.79    134456\n",
      "   macro avg       0.80      0.79      0.79    134456\n",
      "weighted avg       0.80      0.79      0.79    134456\n",
      "\n",
      "[58794  8434 20192 47036]\n"
     ]
    }
   ],
   "source": [
    "# Random Forest Classifier (oversample train & test set)\n",
    "\n",
    "rfc_params =  {\n",
    "    'min_samples_split': 3,\n",
    "    'max_leaf_nodes':-18\n",
    "}\n",
    "\n",
    "rfc = RandomForestClassifier()\n",
    "rfc.set_params(**rfc_params)\n",
    "\n",
    "rfc.fit(x_train_oversample, y_train_oversample)\n",
    "\n",
    "y_pred_oversample = rfc.predict(x_test_oversample)\n",
    "y_predproba_oversample = rfc.predict_proba(x_test_oversample)      \n",
    "\n",
    "roc_rfc_oversample, f1_rfc_oversample = print_results(y_test_oversample, y_pred_oversample, y_predproba_oversample)  \n",
    "print(confusion_matrix(y_test_oversample, y_pred_oversample).ravel())"
   ]
  },
  {
   "cell_type": "code",
   "execution_count": 486,
   "metadata": {},
   "outputs": [
    {
     "data": {
      "text/plain": [
       "<sklearn.metrics._plot.confusion_matrix.ConfusionMatrixDisplay at 0x20405cba9d0>"
      ]
     },
     "execution_count": 486,
     "metadata": {},
     "output_type": "execute_result"
    },
    {
     "data": {
      "image/png": "[encoded data removed]",
      "text/plain": [
       "<Figure size 432x288 with 2 Axes>"
      ]
     },
     "metadata": {
      "needs_background": "light"
     },
     "output_type": "display_data"
    }
   ],
   "source": [
    "cm = confusion_matrix(y_test_oversample, y_pred_oversample, labels=rfc.classes_)\n",
    "cm_display = ConfusionMatrixDisplay(confusion_matrix=cm, display_labels=rfc.classes_)\n",
    "cm_display.plot()"
   ]
  },
  {
   "cell_type": "code",
   "execution_count": 487,
   "metadata": {},
   "outputs": [
    {
     "name": "stdout",
     "output_type": "stream",
     "text": [
      "[ Metrics Evaluation ]\n",
      "\n",
      "ROC Auc:    0.6053896430153347\n",
      "f1 Score:     0.8873442757158836\n",
      "Classification Report:\n",
      "              precision    recall  f1-score   support\n",
      "\n",
      "           0       0.97      0.87      0.92     67228\n",
      "           1       0.08      0.28      0.13      2772\n",
      "\n",
      "    accuracy                           0.85     70000\n",
      "   macro avg       0.53      0.58      0.52     70000\n",
      "weighted avg       0.93      0.85      0.89     70000\n",
      "\n",
      "[58815  8413  2005   767]\n"
     ]
    }
   ],
   "source": [
    "# Random Forest Classifier (oversample train set)\n",
    "\n",
    "rfc_params =  {\n",
    "    'min_samples_split': 3,\n",
    "    'max_leaf_nodes':-18\n",
    "}\n",
    "\n",
    "rfc = RandomForestClassifier()\n",
    "rfc.set_params(**rfc_params)\n",
    "\n",
    "rfc.fit(x_train_oversample, y_train_oversample)\n",
    "\n",
    "y_pred = rfc.predict(x_test)\n",
    "y_predproba = rfc.predict_proba(x_test)      \n",
    "\n",
    "roc_rfc, f1_rfc = print_results(y_test, y_pred, y_predproba)  \n",
    "print(confusion_matrix(y_test, y_pred).ravel()) "
   ]
  },
  {
   "cell_type": "code",
   "execution_count": 488,
   "metadata": {},
   "outputs": [
    {
     "data": {
      "text/plain": [
       "<sklearn.metrics._plot.confusion_matrix.ConfusionMatrixDisplay at 0x20408cfe6a0>"
      ]
     },
     "execution_count": 488,
     "metadata": {},
     "output_type": "execute_result"
    },
    {
     "data": {
      "image/png": "[encoded data removed]",
      "text/plain": [
       "<Figure size 432x288 with 2 Axes>"
      ]
     },
     "metadata": {
      "needs_background": "light"
     },
     "output_type": "display_data"
    }
   ],
   "source": [
    "cm = confusion_matrix(y_test, y_pred, labels=rfc.classes_)\n",
    "cm_display = ConfusionMatrixDisplay(confusion_matrix=cm, display_labels=rfc.classes_)\n",
    "cm_display.plot()"
   ]
  },
  {
   "cell_type": "code",
   "execution_count": 495,
   "metadata": {},
   "outputs": [
    {
     "data": {
      "image/png": "[encoded data removed]",
      "text/plain": [
       "<Figure size 720x360 with 1 Axes>"
      ]
     },
     "metadata": {
      "needs_background": "light"
     },
     "output_type": "display_data"
    }
   ],
   "source": [
    "# Plot the comparison between ROC AUC and F1 Score for Oversampled Tuned Train Data\n",
    "\n",
    "labelArr = np.array(['ROC', 'ROC', 'ROC', 'ROC', 'F1', 'F1', 'F1', 'F1'])\n",
    "metricsArr = np.array([roc_lgbm, roc_xgb, roc_rfc, roc_dtc, f1_lgbm, f1_xgb, f1_rfc, f1_dtc])\n",
    "xArr = np.array(['LGBM', 'XGB', 'RFC', 'DTC', 'LGBM', 'XGB', 'RFC', 'DTC'])\n",
    "\n",
    "# Plot ROC and F1 from all models\n",
    "plt.figure(figsize=(10, 5))\n",
    "bar = sns.barplot(metricsArr, xArr, hue=labelArr, palette='husl')\n",
    "plt.legend(loc='lower left')\n",
    "bar.set(xlim = (None, 1.1))\n",
    "bar.set_title('Comparison between ROC AUC and F1 Score Between Models (Oversampled Train Data)')\n",
    "bar.set_ylabel(\"Models\")\n",
    "\n",
    "# Put the exact value in the graph\n",
    "for p in bar.patches: \n",
    "    width, height = p.get_width(), p.get_height()\n",
    "    x, y = p.get_xy() \n",
    "    bar.text(x+width, \n",
    "           y+height/2, \n",
    "           \" %.2f\"%width, \n",
    "           horizontalalignment=\"left\",fontsize=12)"
   ]
  },
  {
   "cell_type": "code",
   "execution_count": 496,
   "metadata": {},
   "outputs": [
    {
     "data": {
      "image/png": "[encoded data removed]",
      "text/plain": [
       "<Figure size 720x360 with 1 Axes>"
      ]
     },
     "metadata": {
      "needs_background": "light"
     },
     "output_type": "display_data"
    }
   ],
   "source": [
    "# Plot the comparison between ROC AUC and F1 Score for Oversampled Tuned Train Test Data\n",
    "\n",
    "labelArr = np.array(['ROC', 'ROC', 'ROC', 'ROC', 'F1', 'F1', 'F1', 'F1'])\n",
    "metricsArr = np.array([roc_lgbm_oversample, roc_xgb_oversample, roc_rfc_oversample, roc_dtc_oversample, f1_lgbm_oversample, f1_xgb_oversample, f1_rfc_oversample, f1_dtc_oversample])\n",
    "xArr = np.array(['LGBM', 'XGB', 'RFC', 'DTC', 'LGBM', 'XGB', 'RFC', 'DTC'])\n",
    "\n",
    "# Plot ROC and F1 from all models\n",
    "plt.figure(figsize=(10, 5))\n",
    "bar = sns.barplot(metricsArr, xArr, hue=labelArr, palette='husl')\n",
    "plt.legend(loc='lower left')\n",
    "bar.set(xlim = (None, 1.1))\n",
    "bar.set_title('Comparison between ROC AUC and F1 Score Between Models (Oversampled Train Test Data)')\n",
    "bar.set_ylabel(\"Models\")\n",
    "\n",
    "# Put the exact value in the graph\n",
    "for p in bar.patches: \n",
    "    width, height = p.get_width(), p.get_height()\n",
    "    x, y = p.get_xy() \n",
    "    bar.text(x+width, \n",
    "           y+height/2, \n",
    "           \" %.2f\"%width, \n",
    "           horizontalalignment=\"left\",fontsize=12)"
   ]
  },
  {
   "cell_type": "markdown",
   "metadata": {},
   "source": [
    "## Comparing Metrics Evaluation with new added features"
   ]
  },
  {
   "cell_type": "markdown",
   "metadata": {},
   "source": [
    "### Adding Age Column"
   ]
  },
  {
   "cell_type": "code",
   "execution_count": 615,
   "metadata": {},
   "outputs": [],
   "source": [
    "# Features variable\n",
    "x = ageGroup.loc[:, ['task_id', 'adv_id', 'adv_prim_id', 'dev_id', 'slot_id', 'tags',\n",
    "       'device_size', 'career', 'up_life_duration', 'indu_name', 'age']]\n",
    "\n",
    "# Target variable\n",
    "y = ageGroup[\"label\"]\n",
    "y = LabelEncoder().fit_transform(y)"
   ]
  },
  {
   "cell_type": "code",
   "execution_count": 616,
   "metadata": {},
   "outputs": [],
   "source": [
    "# Train test split with stratifiedKfold, train: 80% test: 20%\n",
    "\n",
    "cv = StratifiedKFold(n_splits=5, shuffle=True)\n",
    "for train_idx, test_idx in cv.split(x, y):\n",
    "    x_train, y_train = x.iloc[train_idx], y[train_idx]\n",
    "    x_test, y_test = x.iloc[test_idx], y[test_idx]\n",
    "\n",
    "# Oversample\n",
    "over = SMOTE()\n",
    "\n",
    "# Resample the train and test data with oversampling method\n",
    "x_train_oversample, y_train_oversample = over.fit_resample(x_train, y_train)  \n",
    "x_test_oversample, y_test_oversample = over.fit_resample(x_test, y_test)  "
   ]
  },
  {
   "cell_type": "markdown",
   "metadata": {},
   "source": [
    "### LightGBM Classifier"
   ]
  },
  {
   "cell_type": "code",
   "execution_count": 153,
   "metadata": {},
   "outputs": [
    {
     "name": "stdout",
     "output_type": "stream",
     "text": [
      "Fitting 5 folds for each of 5 candidates, totalling 25 fits\n",
      "Best score: 0.56210080943397 using {'max_depth': 17}\n"
     ]
    }
   ],
   "source": [
    "paramGrid = dict(max_depth= range(15, 20, 1))\n",
    "\n",
    "gridSearch = GridSearchCV(lgbm, \n",
    "                           paramGrid, \n",
    "                           cv=5,\n",
    "                           scoring=\"roc_auc\", \n",
    "                           n_jobs=-1,\n",
    "                           verbose=1)\n",
    "               \n",
    "gridSearchResult = gridSearch.fit(x_train_oversample, y_train_oversample)\n",
    "print(f'Best score: {gridSearchResult.best_score_} using {gridSearchResult.best_params_}')"
   ]
  },
  {
   "cell_type": "code",
   "execution_count": 154,
   "metadata": {},
   "outputs": [
    {
     "name": "stdout",
     "output_type": "stream",
     "text": [
      "Fitting 5 folds for each of 50 candidates, totalling 250 fits\n",
      "Best score: 0.61634375829999 using {'num_leaves': 242}\n"
     ]
    }
   ],
   "source": [
    "paramGrid = dict(num_leaves=range(200, 250, 1))\n",
    "\n",
    "gridSearch = GridSearchCV(lgbm, \n",
    "                           paramGrid, \n",
    "                           cv=5,\n",
    "                           scoring=\"roc_auc\", \n",
    "                           n_jobs=-1,\n",
    "                           verbose=1)\n",
    "               \n",
    "gridSearchResult = gridSearch.fit(x_train_oversample, y_train_oversample)\n",
    "print(f'Best score: {gridSearchResult.best_score_} using {gridSearchResult.best_params_}')"
   ]
  },
  {
   "cell_type": "code",
   "execution_count": 499,
   "metadata": {},
   "outputs": [
    {
     "name": "stdout",
     "output_type": "stream",
     "text": [
      "[ Metrics Evaluation ]\n",
      "\n",
      "ROC Auc:    0.946784035426233\n",
      "f1 Score:     0.8754061439410294\n",
      "Classification Report:\n",
      "              precision    recall  f1-score   support\n",
      "\n",
      "           0       0.87      0.88      0.88     67228\n",
      "           1       0.88      0.87      0.87     67228\n",
      "\n",
      "    accuracy                           0.88    134456\n",
      "   macro avg       0.88      0.88      0.88    134456\n",
      "weighted avg       0.88      0.88      0.88    134456\n",
      "\n",
      "[59177  8051  8701 58527]\n"
     ]
    }
   ],
   "source": [
    "# LightGBM (oversample train & test data)\n",
    "\n",
    "lgbm_params = {\n",
    "    'max_depth': 16, \n",
    "    'num_leaves': 242, \n",
    "    'metrics' : 'auc', \n",
    "    'application':'binary', \n",
    "}\n",
    "\n",
    "lgbm = LGBMClassifier()\n",
    "lgbm.set_params(**lgbm_params)\n",
    "\n",
    "lgbm.fit(x_train_oversample, y_train_oversample)\n",
    "\n",
    "y_pred_oversample = lgbm.predict(x_test_oversample)\n",
    "y_predproba_oversample = lgbm.predict_proba(x_test_oversample)      \n",
    "\n",
    "roc_lgbm_oversample_1, f1_lgbm_oversample_1 = print_results(y_test_oversample, y_pred_oversample, y_predproba_oversample)  \n",
    "print(confusion_matrix(y_test_oversample, y_pred_oversample).ravel())"
   ]
  },
  {
   "cell_type": "code",
   "execution_count": 500,
   "metadata": {},
   "outputs": [
    {
     "data": {
      "text/plain": [
       "<sklearn.metrics._plot.confusion_matrix.ConfusionMatrixDisplay at 0x20406dd1370>"
      ]
     },
     "execution_count": 500,
     "metadata": {},
     "output_type": "execute_result"
    },
    {
     "data": {
      "image/png": "[encoded data removed]",
      "text/plain": [
       "<Figure size 432x288 with 2 Axes>"
      ]
     },
     "metadata": {
      "needs_background": "light"
     },
     "output_type": "display_data"
    }
   ],
   "source": [
    "cm = confusion_matrix(y_test_oversample, y_pred_oversample, labels=lgbm.classes_)\n",
    "cm_display = ConfusionMatrixDisplay(confusion_matrix=cm, display_labels=lgbm.classes_)\n",
    "cm_display.plot()"
   ]
  },
  {
   "cell_type": "code",
   "execution_count": 541,
   "metadata": {},
   "outputs": [
    {
     "name": "stdout",
     "output_type": "stream",
     "text": [
      "[ Metrics Evaluation ]\n",
      "\n",
      "ROC Auc:    0.6634868042038418\n",
      "f1 Score:     0.8927113131207702\n",
      "Classification Report:\n",
      "              precision    recall  f1-score   support\n",
      "\n",
      "           0       0.97      0.88      0.92     67228\n",
      "           1       0.10      0.30      0.15      2772\n",
      "\n",
      "    accuracy                           0.86     70000\n",
      "   macro avg       0.53      0.59      0.53     70000\n",
      "weighted avg       0.93      0.86      0.89     70000\n",
      "\n",
      "[59340  7888  1938   834]\n"
     ]
    }
   ],
   "source": [
    "# LightGBM Classifier (oversample train data)\n",
    "\n",
    "lgbm_params = {\n",
    "      'max_depth': 16, \n",
    "    'num_leaves': 242, \n",
    "    'metrics' : 'auc', \n",
    "    'application':'binary', \n",
    "}\n",
    "\n",
    "lgbm = LGBMClassifier()\n",
    "lgbm.set_params(**lgbm_params)\n",
    "\n",
    "lgbm.fit(x_train_oversample, y_train_oversample)\n",
    "\n",
    "\n",
    "y_pred = lgbm.predict(x_test)\n",
    "y_predproba = lgbm.predict_proba(x_test)      \n",
    "\n",
    "roc_lgbm_1, f1_lgbm_1 = print_results(y_test,y_pred, y_predproba) \n",
    "print(confusion_matrix(y_test, y_pred).ravel())"
   ]
  },
  {
   "cell_type": "code",
   "execution_count": 542,
   "metadata": {},
   "outputs": [
    {
     "data": {
      "text/plain": [
       "<sklearn.metrics._plot.confusion_matrix.ConfusionMatrixDisplay at 0x20406c7e250>"
      ]
     },
     "execution_count": 542,
     "metadata": {},
     "output_type": "execute_result"
    },
    {
     "data": {
      "image/png": "[encoded data removed]",
      "text/plain": [
       "<Figure size 432x288 with 2 Axes>"
      ]
     },
     "metadata": {
      "needs_background": "light"
     },
     "output_type": "display_data"
    }
   ],
   "source": [
    "cm = confusion_matrix(y_test, y_pred, labels=lgbm.classes_)\n",
    "cm_display = ConfusionMatrixDisplay(confusion_matrix=cm, display_labels=lgbm.classes_)\n",
    "cm_display.plot()"
   ]
  },
  {
   "cell_type": "markdown",
   "metadata": {},
   "source": [
    "### XGBoost Classifier"
   ]
  },
  {
   "cell_type": "code",
   "execution_count": 543,
   "metadata": {},
   "outputs": [
    {
     "name": "stdout",
     "output_type": "stream",
     "text": [
      "[ Metrics Evaluation ]\n",
      "\n",
      "ROC Auc:    0.9473590268434458\n",
      "f1 Score:     0.8740259621381931\n",
      "Classification Report:\n",
      "              precision    recall  f1-score   support\n",
      "\n",
      "           0       0.88      0.87      0.87     67228\n",
      "           1       0.87      0.88      0.87     67228\n",
      "\n",
      "    accuracy                           0.87    134456\n",
      "   macro avg       0.87      0.87      0.87    134456\n",
      "weighted avg       0.87      0.87      0.87    134456\n",
      "\n",
      "[58252  8976  7961 59267]\n"
     ]
    }
   ],
   "source": [
    "# xgboost classifier (oversample train & test set)\n",
    "\n",
    "xgb_params =  {\n",
    "    'use_label_encoder': False,\n",
    "    'eval_metric': 'mlogloss'\n",
    "}\n",
    "\n",
    "xgbc = XGBClassifier()\n",
    "xgbc.set_params(**xgb_params)\n",
    "\n",
    "xgbc.fit(x_train_oversample, y_train_oversample)\n",
    "\n",
    "y_pred_oversample = xgbc.predict(x_test_oversample)\n",
    "y_predproba_oversample = xgbc.predict_proba(x_test_oversample)      \n",
    "\n",
    "roc_xgb_oversample_1, f1_xgb_oversample_1 = print_results(y_test_oversample, y_pred_oversample, y_predproba_oversample)  \n",
    "print(confusion_matrix(y_test_oversample, y_pred_oversample).ravel())"
   ]
  },
  {
   "cell_type": "code",
   "execution_count": 544,
   "metadata": {},
   "outputs": [
    {
     "data": {
      "text/plain": [
       "<sklearn.metrics._plot.confusion_matrix.ConfusionMatrixDisplay at 0x2040706d9a0>"
      ]
     },
     "execution_count": 544,
     "metadata": {},
     "output_type": "execute_result"
    },
    {
     "data": {
      "image/png": "[encoded data removed]",
      "text/plain": [
       "<Figure size 432x288 with 2 Axes>"
      ]
     },
     "metadata": {
      "needs_background": "light"
     },
     "output_type": "display_data"
    }
   ],
   "source": [
    "cm = confusion_matrix(y_test_oversample, y_pred_oversample, labels=xgbc.classes_)\n",
    "cm_display = ConfusionMatrixDisplay(confusion_matrix=cm, display_labels=xgbc.classes_)\n",
    "cm_display.plot()"
   ]
  },
  {
   "cell_type": "code",
   "execution_count": 545,
   "metadata": {},
   "outputs": [
    {
     "name": "stdout",
     "output_type": "stream",
     "text": [
      "[ Metrics Evaluation ]\n",
      "\n",
      "ROC Auc:    0.6635768737404217\n",
      "f1 Score:     0.8845960210632788\n",
      "Classification Report:\n",
      "              precision    recall  f1-score   support\n",
      "\n",
      "           0       0.97      0.87      0.92     67228\n",
      "           1       0.09      0.34      0.15      2772\n",
      "\n",
      "    accuracy                           0.85     70000\n",
      "   macro avg       0.53      0.60      0.53     70000\n",
      "weighted avg       0.93      0.85      0.88     70000\n",
      "\n",
      "[58252  8976  1843   929]\n"
     ]
    }
   ],
   "source": [
    "# xgboost classifier (oversample train set)\n",
    "\n",
    "xgb_params =  {\n",
    "    'use_label_encoder': False,\n",
    "    'eval_metric': 'mlogloss'\n",
    "}\n",
    "\n",
    "xgbc = XGBClassifier()\n",
    "xgbc.set_params(**xgb_params)\n",
    "\n",
    "xgbc.fit(x_train_oversample, y_train_oversample)\n",
    "\n",
    "y_pred = xgbc.predict(x_test)\n",
    "y_predproba = xgbc.predict_proba(x_test)      \n",
    "\n",
    "roc_xgb_1, f1_xgb_1 = print_results(y_test,y_pred, y_predproba)\n",
    "print(confusion_matrix(y_test, y_pred).ravel())"
   ]
  },
  {
   "cell_type": "code",
   "execution_count": 546,
   "metadata": {},
   "outputs": [
    {
     "data": {
      "text/plain": [
       "<sklearn.metrics._plot.confusion_matrix.ConfusionMatrixDisplay at 0x2040782c760>"
      ]
     },
     "execution_count": 546,
     "metadata": {},
     "output_type": "execute_result"
    },
    {
     "data": {
      "image/png": "[encoded data removed]",
      "text/plain": [
       "<Figure size 432x288 with 2 Axes>"
      ]
     },
     "metadata": {
      "needs_background": "light"
     },
     "output_type": "display_data"
    }
   ],
   "source": [
    "cm = confusion_matrix(y_test, y_pred, labels=xgbc.classes_)\n",
    "cm_display = ConfusionMatrixDisplay(confusion_matrix=cm, display_labels=xgbc.classes_)\n",
    "cm_display.plot()"
   ]
  },
  {
   "cell_type": "markdown",
   "metadata": {},
   "source": [
    "### Decision Tree  Classifier"
   ]
  },
  {
   "cell_type": "code",
   "execution_count": 165,
   "metadata": {},
   "outputs": [
    {
     "name": "stdout",
     "output_type": "stream",
     "text": [
      "Fitting 5 folds for each of 20 candidates, totalling 100 fits\n",
      "Best score: 0.6447835366148288 using {'max_depth': 48}\n"
     ]
    }
   ],
   "source": [
    "paramGrid = dict(max_depth=range(30, 50, 1))\n",
    "\n",
    "gridSearch = GridSearchCV(dtc, \n",
    "                           paramGrid, \n",
    "                           cv=5,\n",
    "                           scoring=\"roc_auc\", \n",
    "                           n_jobs=-1,\n",
    "                           verbose=1)\n",
    "               \n",
    "gridSearchResult = gridSearch.fit(x_train_oversample, y_train_oversample)\n",
    "print(f'Best score: {gridSearchResult.best_score_} using {gridSearchResult.best_params_}')"
   ]
  },
  {
   "cell_type": "code",
   "execution_count": 224,
   "metadata": {},
   "outputs": [
    {
     "name": "stdout",
     "output_type": "stream",
     "text": [
      "Fitting 5 folds for each of 9 candidates, totalling 45 fits\n",
      "Best score: 0.6559546925174393 using {'min_samples_leaf': 2}\n"
     ]
    }
   ],
   "source": [
    "paramGrid = dict(min_samples_leaf=range(1, 10, 1))\n",
    "\n",
    "gridSearch = GridSearchCV(dtc, \n",
    "                           paramGrid, \n",
    "                           cv=5,\n",
    "                           scoring=\"roc_auc\", \n",
    "                           n_jobs=-1,\n",
    "                           verbose=1)\n",
    "               \n",
    "gridSearchResult = gridSearch.fit(x_train_oversample, y_train_oversample)\n",
    "print(f'Best score: {gridSearchResult.best_score_} using {gridSearchResult.best_params_}')"
   ]
  },
  {
   "cell_type": "code",
   "execution_count": 619,
   "metadata": {},
   "outputs": [
    {
     "name": "stdout",
     "output_type": "stream",
     "text": [
      "[ Metrics Evaluation ]\n",
      "\n",
      "ROC Auc:    0.8200397796180012\n",
      "f1 Score:     0.7689080756332759\n",
      "Classification Report:\n",
      "              precision    recall  f1-score   support\n",
      "\n",
      "           0       0.73      0.87      0.79     67228\n",
      "           1       0.83      0.68      0.75     67228\n",
      "\n",
      "    accuracy                           0.77    134456\n",
      "   macro avg       0.78      0.77      0.77    134456\n",
      "weighted avg       0.78      0.77      0.77    134456\n",
      "\n",
      "[58246  8982 21807 45421]\n"
     ]
    }
   ],
   "source": [
    "# Decision Tree Classifier (oversample train & test set)\n",
    "\n",
    "dtc_params =  {\n",
    "    'min_samples_split': 19,\n",
    "    'criterion': 'entropy',\n",
    "    'min_samples_leaf': 2,\n",
    "    'max_depth': 48,\n",
    "}\n",
    "\n",
    "dtc =  DecisionTreeClassifier()\n",
    "dtc.set_params(**dtc_params)\n",
    "\n",
    "dtc.fit(x_train_oversample, y_train_oversample)\n",
    "\n",
    "y_pred_oversample = dtc.predict(x_test_oversample)\n",
    "y_predproba_oversample = dtc.predict_proba(x_test_oversample)         \n",
    "\n",
    "roc_dtc_oversample_1, f1_dtc_oversample_1 = print_results(y_test_oversample, y_pred_oversample, y_predproba_oversample)  \n",
    "print(confusion_matrix(y_test_oversample, y_pred_oversample).ravel())"
   ]
  },
  {
   "cell_type": "code",
   "execution_count": 620,
   "metadata": {},
   "outputs": [
    {
     "data": {
      "text/plain": [
       "<sklearn.metrics._plot.confusion_matrix.ConfusionMatrixDisplay at 0x204076e0ca0>"
      ]
     },
     "execution_count": 620,
     "metadata": {},
     "output_type": "execute_result"
    },
    {
     "data": {
      "image/png": "[encoded data removed]",
      "text/plain": [
       "<Figure size 432x288 with 2 Axes>"
      ]
     },
     "metadata": {
      "needs_background": "light"
     },
     "output_type": "display_data"
    }
   ],
   "source": [
    "cm = confusion_matrix(y_test_oversample, y_pred_oversample, labels=dtc.classes_)\n",
    "cm_display = ConfusionMatrixDisplay(confusion_matrix=cm, display_labels=dtc.classes_)\n",
    "cm_display.plot()"
   ]
  },
  {
   "cell_type": "code",
   "execution_count": 617,
   "metadata": {},
   "outputs": [
    {
     "name": "stdout",
     "output_type": "stream",
     "text": [
      "[ Metrics Evaluation ]\n",
      "\n",
      "ROC Auc:    0.5933977038873808\n",
      "f1 Score:     0.8819939965910115\n",
      "Classification Report:\n",
      "              precision    recall  f1-score   support\n",
      "\n",
      "           0       0.97      0.87      0.91     67228\n",
      "           1       0.07      0.26      0.12      2772\n",
      "\n",
      "    accuracy                           0.84     70000\n",
      "   macro avg       0.52      0.56      0.51     70000\n",
      "weighted avg       0.93      0.84      0.88     70000\n",
      "\n",
      "[58257  8971  2050   722]\n"
     ]
    }
   ],
   "source": [
    "# Decision Tree Classifier (oversample train set)\n",
    "\n",
    "dtc_params =  {\n",
    "    'min_samples_split': 19,\n",
    "    'criterion': 'entropy',\n",
    "    'min_samples_leaf': 2,\n",
    "    'max_depth': 48,\n",
    "}\n",
    "\n",
    "dtc =  DecisionTreeClassifier()\n",
    "dtc.set_params(**dtc_params)\n",
    "\n",
    "dtc.fit(x_train_oversample, y_train_oversample)\n",
    "y_pred = dtc.predict(x_test)\n",
    "y_predproba = dtc.predict_proba(x_test)      \n",
    "\n",
    "roc_dtc_1, f1_dtc_1 = print_results(y_test, y_pred, y_predproba)  \n",
    "print(confusion_matrix(y_test, y_pred).ravel()) "
   ]
  },
  {
   "cell_type": "code",
   "execution_count": 618,
   "metadata": {},
   "outputs": [
    {
     "data": {
      "text/plain": [
       "<sklearn.metrics._plot.confusion_matrix.ConfusionMatrixDisplay at 0x204075e4670>"
      ]
     },
     "execution_count": 618,
     "metadata": {},
     "output_type": "execute_result"
    },
    {
     "data": {
      "image/png": "[encoded data removed]",
      "text/plain": [
       "<Figure size 432x288 with 2 Axes>"
      ]
     },
     "metadata": {
      "needs_background": "light"
     },
     "output_type": "display_data"
    }
   ],
   "source": [
    "cm = confusion_matrix(y_test, y_pred, labels=dtc.classes_)\n",
    "cm_display = ConfusionMatrixDisplay(confusion_matrix=cm, display_labels=dtc.classes_)\n",
    "cm_display.plot()"
   ]
  },
  {
   "cell_type": "markdown",
   "metadata": {},
   "source": [
    "### Random Forest Classifier"
   ]
  },
  {
   "cell_type": "code",
   "execution_count": 594,
   "metadata": {},
   "outputs": [
    {
     "name": "stdout",
     "output_type": "stream",
     "text": [
      "[ Metrics Evaluation ]\n",
      "\n",
      "ROC Auc:    0.8780456942795721\n",
      "f1 Score:     0.7885043623223835\n",
      "Classification Report:\n",
      "              precision    recall  f1-score   support\n",
      "\n",
      "           0       0.74      0.90      0.81     67228\n",
      "           1       0.87      0.68      0.77     67228\n",
      "\n",
      "    accuracy                           0.79    134456\n",
      "   macro avg       0.81      0.79      0.79    134456\n",
      "weighted avg       0.81      0.79      0.79    134456\n",
      "\n",
      "[60529  6699 21398 45830]\n"
     ]
    }
   ],
   "source": [
    "# Random Forest Classifier (oversample train & test set)\n",
    "\n",
    "rfc_params =  {\n",
    "    'min_samples_split': 2,\n",
    "    'max_leaf_nodes':-22,\n",
    "    'max_depth': 41\n",
    "}\n",
    "\n",
    "rfc = RandomForestClassifier()\n",
    "rfc.set_params(**rfc_params)\n",
    "\n",
    "rfc.fit(x_train_oversample, y_train_oversample)\n",
    "\n",
    "y_pred_oversample = rfc.predict(x_test_oversample)\n",
    "y_predproba_oversample = rfc.predict_proba(x_test_oversample)      \n",
    "\n",
    "roc_rfc_oversample_1, f1_rfc_oversample_1 = print_results(y_test_oversample, y_pred_oversample, y_predproba_oversample)  \n",
    "print(confusion_matrix(y_test_oversample, y_pred_oversample).ravel())"
   ]
  },
  {
   "cell_type": "code",
   "execution_count": 595,
   "metadata": {},
   "outputs": [
    {
     "data": {
      "text/plain": [
       "<sklearn.metrics._plot.confusion_matrix.ConfusionMatrixDisplay at 0x20406e30fd0>"
      ]
     },
     "execution_count": 595,
     "metadata": {},
     "output_type": "execute_result"
    },
    {
     "data": {
      "image/png": "[encoded data removed]",
      "text/plain": [
       "<Figure size 432x288 with 2 Axes>"
      ]
     },
     "metadata": {
      "needs_background": "light"
     },
     "output_type": "display_data"
    }
   ],
   "source": [
    "cm = confusion_matrix(y_test_oversample, y_pred_oversample, labels=rfc.classes_)\n",
    "cm_display = ConfusionMatrixDisplay(confusion_matrix=cm, display_labels=rfc.classes_)\n",
    "cm_display.plot()"
   ]
  },
  {
   "cell_type": "code",
   "execution_count": 596,
   "metadata": {},
   "outputs": [
    {
     "name": "stdout",
     "output_type": "stream",
     "text": [
      "[ Metrics Evaluation ]\n",
      "\n",
      "ROC Auc:    0.6000622888396584\n",
      "f1 Score:     0.8999725751260677\n",
      "Classification Report:\n",
      "              precision    recall  f1-score   support\n",
      "\n",
      "           0       0.97      0.90      0.93     67228\n",
      "           1       0.09      0.23      0.13      2772\n",
      "\n",
      "    accuracy                           0.87     70000\n",
      "   macro avg       0.53      0.56      0.53     70000\n",
      "weighted avg       0.93      0.87      0.90     70000\n",
      "\n",
      "[60522  6706  2138   634]\n"
     ]
    }
   ],
   "source": [
    "# Random Forest Classifier (oversample train set)\n",
    "\n",
    "rfc_params =  {\n",
    "    'min_samples_split': 2,\n",
    "    'max_leaf_nodes':-22,\n",
    "    'max_depth': 41\n",
    "}\n",
    "\n",
    "rfc = RandomForestClassifier()\n",
    "rfc.set_params(**rfc_params)\n",
    "\n",
    "rfc.fit(x_train_oversample, y_train_oversample)\n",
    "\n",
    "y_pred = rfc.predict(x_test)\n",
    "y_predproba = rfc.predict_proba(x_test)      \n",
    "\n",
    "roc_rfc_1, f1_rfc_1 = print_results(y_test, y_pred, y_predproba)  \n",
    "print(confusion_matrix(y_test, y_pred).ravel()) "
   ]
  },
  {
   "cell_type": "code",
   "execution_count": 597,
   "metadata": {},
   "outputs": [
    {
     "data": {
      "text/plain": [
       "<sklearn.metrics._plot.confusion_matrix.ConfusionMatrixDisplay at 0x2040780e6d0>"
      ]
     },
     "execution_count": 597,
     "metadata": {},
     "output_type": "execute_result"
    },
    {
     "data": {
      "image/png": "[encoded data removed]",
      "text/plain": [
       "<Figure size 432x288 with 2 Axes>"
      ]
     },
     "metadata": {
      "needs_background": "light"
     },
     "output_type": "display_data"
    }
   ],
   "source": [
    "cm = confusion_matrix(y_test, y_pred, labels=rfc.classes_)\n",
    "cm_display = ConfusionMatrixDisplay(confusion_matrix=cm, display_labels=rfc.classes_)\n",
    "cm_display.plot()"
   ]
  },
  {
   "cell_type": "markdown",
   "metadata": {},
   "source": [
    "### Adding Age and Gender Column"
   ]
  },
  {
   "cell_type": "code",
   "execution_count": 634,
   "metadata": {},
   "outputs": [],
   "source": [
    "# Features variable\n",
    "x = ageGroup.loc[:, ['task_id', 'adv_id', 'adv_prim_id', 'dev_id', 'slot_id', 'tags',\n",
    "       'device_size', 'career', 'up_life_duration', 'indu_name', 'age', 'gender']]\n",
    "\n",
    "# Target variable\n",
    "y = ageGroup[\"label\"]\n",
    "y = LabelEncoder().fit_transform(y)"
   ]
  },
  {
   "cell_type": "code",
   "execution_count": 635,
   "metadata": {},
   "outputs": [],
   "source": [
    "# Train test split with stratifiedKfold, train: 70% test: 30%\n",
    "\n",
    "cv = StratifiedKFold(n_splits=5, shuffle=True)\n",
    "for train_idx, test_idx in cv.split(x, y):\n",
    "    x_train, y_train = x.iloc[train_idx], y[train_idx]\n",
    "    x_test, y_test = x.iloc[test_idx], y[test_idx]\n",
    "\n",
    "# Oversample\n",
    "over = SMOTE()\n",
    "\n",
    "# Resample the train and test data with oversampling method\n",
    "x_train_oversample, y_train_oversample = over.fit_resample(x_train, y_train)  \n",
    "x_test_oversample, y_test_oversample = over.fit_resample(x_test, y_test)  "
   ]
  },
  {
   "cell_type": "markdown",
   "metadata": {},
   "source": [
    "### LightGBM Classifier"
   ]
  },
  {
   "cell_type": "code",
   "execution_count": 186,
   "metadata": {},
   "outputs": [
    {
     "name": "stdout",
     "output_type": "stream",
     "text": [
      "Fitting 5 folds for each of 5 candidates, totalling 25 fits\n",
      "Best score: 0.5995918621009773 using {'max_depth': 19}\n"
     ]
    }
   ],
   "source": [
    "paramGrid = dict(max_depth= range(15, 20, 1))\n",
    "\n",
    "gridSearch = GridSearchCV(lgbm, \n",
    "                           paramGrid, \n",
    "                           cv=5,\n",
    "                           scoring=\"roc_auc\", \n",
    "                           n_jobs=-1,\n",
    "                           verbose=1)\n",
    "               \n",
    "gridSearchResult = gridSearch.fit(x_train_oversample, y_train_oversample)\n",
    "print(f'Best score: {gridSearchResult.best_score_} using {gridSearchResult.best_params_}')"
   ]
  },
  {
   "cell_type": "code",
   "execution_count": 187,
   "metadata": {},
   "outputs": [
    {
     "name": "stdout",
     "output_type": "stream",
     "text": [
      "Fitting 5 folds for each of 50 candidates, totalling 250 fits\n",
      "Best score: 0.638011673585485 using {'num_leaves': 234}\n"
     ]
    }
   ],
   "source": [
    "paramGrid = dict(num_leaves=range(200, 250, 1))\n",
    "\n",
    "gridSearch = GridSearchCV(lgbm, \n",
    "                           paramGrid, \n",
    "                           cv=5,\n",
    "                           scoring=\"roc_auc\", \n",
    "                           n_jobs=-1,\n",
    "                           verbose=1)\n",
    "               \n",
    "gridSearchResult = gridSearch.fit(x_train_oversample, y_train_oversample)\n",
    "print(f'Best score: {gridSearchResult.best_score_} using {gridSearchResult.best_params_}')"
   ]
  },
  {
   "cell_type": "code",
   "execution_count": 623,
   "metadata": {},
   "outputs": [
    {
     "name": "stdout",
     "output_type": "stream",
     "text": [
      "[ Metrics Evaluation ]\n",
      "\n",
      "ROC Auc:    0.9557464116971184\n",
      "f1 Score:     0.8892901763959735\n",
      "Classification Report:\n",
      "              precision    recall  f1-score   support\n",
      "\n",
      "           0       0.88      0.90      0.89     67228\n",
      "           1       0.90      0.88      0.89     67228\n",
      "\n",
      "    accuracy                           0.89    134456\n",
      "   macro avg       0.89      0.89      0.89    134456\n",
      "weighted avg       0.89      0.89      0.89    134456\n",
      "\n",
      "[60483  6745  8139 59089]\n"
     ]
    }
   ],
   "source": [
    "# LightGBM (oversample train & test data)\n",
    "\n",
    "lgbm_params = {\n",
    "    'max_depth': 19, \n",
    "    'num_leaves': 234, \n",
    "    'metrics' : 'auc', \n",
    "    'application':'binary', \n",
    "}\n",
    "\n",
    "lgbm = LGBMClassifier()\n",
    "lgbm.set_params(**lgbm_params)\n",
    "\n",
    "lgbm.fit(x_train_oversample, y_train_oversample)\n",
    "\n",
    "y_pred_oversample = lgbm.predict(x_test_oversample)\n",
    "y_predproba_oversample = lgbm.predict_proba(x_test_oversample)      \n",
    "\n",
    "roc_lgbm_oversample_2, f1_lgbm_oversample_2 = print_results(y_test_oversample, y_pred_oversample, y_predproba_oversample)  \n",
    "print(confusion_matrix(y_test_oversample, y_pred_oversample).ravel())"
   ]
  },
  {
   "cell_type": "code",
   "execution_count": 624,
   "metadata": {},
   "outputs": [
    {
     "data": {
      "text/plain": [
       "<sklearn.metrics._plot.confusion_matrix.ConfusionMatrixDisplay at 0x20406e30f10>"
      ]
     },
     "execution_count": 624,
     "metadata": {},
     "output_type": "execute_result"
    },
    {
     "data": {
      "image/png": "[encoded data removed]",
      "text/plain": [
       "<Figure size 432x288 with 2 Axes>"
      ]
     },
     "metadata": {
      "needs_background": "light"
     },
     "output_type": "display_data"
    }
   ],
   "source": [
    "cm = confusion_matrix(y_test_oversample, y_pred_oversample, labels=lgbm.classes_)\n",
    "cm_display = ConfusionMatrixDisplay(confusion_matrix=cm, display_labels=lgbm.classes_)\n",
    "cm_display.plot()"
   ]
  },
  {
   "cell_type": "code",
   "execution_count": 625,
   "metadata": {},
   "outputs": [
    {
     "name": "stdout",
     "output_type": "stream",
     "text": [
      "[ Metrics Evaluation ]\n",
      "\n",
      "ROC Auc:    0.6585274606857876\n",
      "f1 Score:     0.9012140490341148\n",
      "Classification Report:\n",
      "              precision    recall  f1-score   support\n",
      "\n",
      "           0       0.97      0.90      0.93     67228\n",
      "           1       0.10      0.27      0.15      2772\n",
      "\n",
      "    accuracy                           0.87     70000\n",
      "   macro avg       0.53      0.58      0.54     70000\n",
      "weighted avg       0.93      0.87      0.90     70000\n",
      "\n",
      "[60483  6745  2027   745]\n"
     ]
    }
   ],
   "source": [
    "# LightGBM Classifier (oversample train data)\n",
    "\n",
    "lgbm_params = {\n",
    "    'max_depth': 19, \n",
    "    'num_leaves': 234, \n",
    "    'metrics' : 'auc', \n",
    "    'application':'binary', \n",
    "}\n",
    "\n",
    "lgbm = LGBMClassifier()\n",
    "lgbm.set_params(**lgbm_params)\n",
    "\n",
    "lgbm.fit(x_train_oversample, y_train_oversample)\n",
    "\n",
    "\n",
    "y_pred = lgbm.predict(x_test)\n",
    "y_predproba = lgbm.predict_proba(x_test)      \n",
    "\n",
    "roc_lgbm_2, f1_lgbm_2 = print_results(y_test,y_pred, y_predproba) \n",
    "print(confusion_matrix(y_test, y_pred).ravel())"
   ]
  },
  {
   "cell_type": "code",
   "execution_count": 626,
   "metadata": {},
   "outputs": [
    {
     "data": {
      "text/plain": [
       "<sklearn.metrics._plot.confusion_matrix.ConfusionMatrixDisplay at 0x20406cf1850>"
      ]
     },
     "execution_count": 626,
     "metadata": {},
     "output_type": "execute_result"
    },
    {
     "data": {
      "image/png": "[encoded data removed]",
      "text/plain": [
       "<Figure size 432x288 with 2 Axes>"
      ]
     },
     "metadata": {
      "needs_background": "light"
     },
     "output_type": "display_data"
    }
   ],
   "source": [
    "cm = confusion_matrix(y_test, y_pred, labels=lgbm.classes_)\n",
    "cm_display = ConfusionMatrixDisplay(confusion_matrix=cm, display_labels=lgbm.classes_)\n",
    "cm_display.plot()"
   ]
  },
  {
   "cell_type": "markdown",
   "metadata": {},
   "source": [
    "### XGBoost Classifier"
   ]
  },
  {
   "cell_type": "code",
   "execution_count": 628,
   "metadata": {},
   "outputs": [
    {
     "name": "stdout",
     "output_type": "stream",
     "text": [
      "[ Metrics Evaluation ]\n",
      "\n",
      "ROC Auc:    0.9546570048558485\n",
      "f1 Score:     0.8868397375259427\n",
      "Classification Report:\n",
      "              precision    recall  f1-score   support\n",
      "\n",
      "           0       0.89      0.88      0.89     67228\n",
      "           1       0.89      0.89      0.89     67228\n",
      "\n",
      "    accuracy                           0.89    134456\n",
      "   macro avg       0.89      0.89      0.89    134456\n",
      "weighted avg       0.89      0.89      0.89    134456\n",
      "\n",
      "[59470  7758  7457 59771]\n"
     ]
    }
   ],
   "source": [
    "# xgboost classifier (oversample train & test set)\n",
    "\n",
    "xgb_params =  {\n",
    "    'use_label_encoder': False,\n",
    "    'eval_metric': 'mlogloss'\n",
    "}\n",
    "\n",
    "xgbc = XGBClassifier()\n",
    "xgbc.set_params(**xgb_params)\n",
    "\n",
    "xgbc.fit(x_train_oversample, y_train_oversample)\n",
    "\n",
    "y_pred_oversample = xgbc.predict(x_test_oversample)\n",
    "y_predproba_oversample = xgbc.predict_proba(x_test_oversample)      \n",
    "\n",
    "roc_xgb_oversample_2, f1_xgb_oversample_2 = print_results(y_test_oversample, y_pred_oversample, y_predproba_oversample)  \n",
    "print(confusion_matrix(y_test_oversample, y_pred_oversample).ravel())"
   ]
  },
  {
   "cell_type": "code",
   "execution_count": 629,
   "metadata": {},
   "outputs": [
    {
     "data": {
      "text/plain": [
       "<sklearn.metrics._plot.confusion_matrix.ConfusionMatrixDisplay at 0x2040830a970>"
      ]
     },
     "execution_count": 629,
     "metadata": {},
     "output_type": "execute_result"
    },
    {
     "data": {
      "image/png": "[encoded data removed]",
      "text/plain": [
       "<Figure size 432x288 with 2 Axes>"
      ]
     },
     "metadata": {
      "needs_background": "light"
     },
     "output_type": "display_data"
    }
   ],
   "source": [
    "cm = confusion_matrix(y_test_oversample, y_pred_oversample, labels=xgbc.classes_)\n",
    "cm_display = ConfusionMatrixDisplay(confusion_matrix=cm, display_labels=xgbc.classes_)\n",
    "cm_display.plot()"
   ]
  },
  {
   "cell_type": "code",
   "execution_count": 630,
   "metadata": {},
   "outputs": [
    {
     "name": "stdout",
     "output_type": "stream",
     "text": [
      "[ Metrics Evaluation ]\n",
      "\n",
      "ROC Auc:    0.6590283728752819\n",
      "f1 Score:     0.8938218512405345\n",
      "Classification Report:\n",
      "              precision    recall  f1-score   support\n",
      "\n",
      "           0       0.97      0.88      0.92     67228\n",
      "           1       0.10      0.30      0.15      2772\n",
      "\n",
      "    accuracy                           0.86     70000\n",
      "   macro avg       0.53      0.59      0.54     70000\n",
      "weighted avg       0.93      0.86      0.89     70000\n",
      "\n",
      "[59470  7758  1938   834]\n"
     ]
    }
   ],
   "source": [
    "# xgboost classifier\n",
    "\n",
    "xgb_params =  {\n",
    "    'use_label_encoder': False,\n",
    "    'eval_metric': 'mlogloss'\n",
    "}\n",
    "\n",
    "xgbc = XGBClassifier()\n",
    "xgbc.set_params(**xgb_params)\n",
    "\n",
    "xgbc.fit(x_train_oversample, y_train_oversample)\n",
    "\n",
    "y_pred = xgbc.predict(x_test)\n",
    "y_predproba = xgbc.predict_proba(x_test)      \n",
    "\n",
    "roc_xgb_2, f1_xgb_2 = print_results(y_test,y_pred, y_predproba)\n",
    "print(confusion_matrix(y_test, y_pred).ravel())"
   ]
  },
  {
   "cell_type": "code",
   "execution_count": 631,
   "metadata": {},
   "outputs": [
    {
     "data": {
      "text/plain": [
       "<sklearn.metrics._plot.confusion_matrix.ConfusionMatrixDisplay at 0x20405e52f40>"
      ]
     },
     "execution_count": 631,
     "metadata": {},
     "output_type": "execute_result"
    },
    {
     "data": {
      "image/png": "[encoded data removed]",
      "text/plain": [
       "<Figure size 432x288 with 2 Axes>"
      ]
     },
     "metadata": {
      "needs_background": "light"
     },
     "output_type": "display_data"
    }
   ],
   "source": [
    "cm = confusion_matrix(y_test, y_pred, labels=xgbc.classes_)\n",
    "cm_display = ConfusionMatrixDisplay(confusion_matrix=cm, display_labels=xgbc.classes_)\n",
    "cm_display.plot()"
   ]
  },
  {
   "cell_type": "markdown",
   "metadata": {},
   "source": [
    "### Decision Tree Classifier"
   ]
  },
  {
   "cell_type": "code",
   "execution_count": 204,
   "metadata": {},
   "outputs": [
    {
     "name": "stdout",
     "output_type": "stream",
     "text": [
      "Fitting 5 folds for each of 8 candidates, totalling 40 fits\n",
      "Best score: 0.6736592324646221 using {'min_samples_split': 4}\n"
     ]
    }
   ],
   "source": [
    "paramGrid = dict(min_samples_split=range(2, 10, 1))\n",
    "\n",
    "gridSearch = GridSearchCV(dtc, \n",
    "                           paramGrid, \n",
    "                           cv=5,\n",
    "                           scoring=\"roc_auc\", \n",
    "                           n_jobs=-1,\n",
    "                           verbose=1)\n",
    "               \n",
    "gridSearchResult = gridSearch.fit(x_train_oversample, y_train_oversample)\n",
    "print(f'Best score: {gridSearchResult.best_score_} using {gridSearchResult.best_params_}')"
   ]
  },
  {
   "cell_type": "code",
   "execution_count": 103,
   "metadata": {},
   "outputs": [
    {
     "name": "stdout",
     "output_type": "stream",
     "text": [
      "Fitting 5 folds for each of 2 candidates, totalling 10 fits\n",
      "Best score: 0.6686519800110352 using {'criterion': 'entropy'}\n"
     ]
    }
   ],
   "source": [
    "paramGrid = dict(criterion=['gini', 'entropy'])\n",
    "\n",
    "gridSearch = GridSearchCV(dtc, \n",
    "                           paramGrid, \n",
    "                           cv=5,\n",
    "                           scoring=\"roc_auc\", \n",
    "                           n_jobs=-1,\n",
    "                           verbose=1)\n",
    "               \n",
    "gridSearchResult = gridSearch.fit(x_train_oversample, y_train_oversample)\n",
    "print(f'Best score: {gridSearchResult.best_score_} using {gridSearchResult.best_params_}')"
   ]
  },
  {
   "cell_type": "code",
   "execution_count": 104,
   "metadata": {},
   "outputs": [
    {
     "name": "stdout",
     "output_type": "stream",
     "text": [
      "Fitting 5 folds for each of 89 candidates, totalling 445 fits\n",
      "Best score: 0.6666759074468757 using {'min_samples_leaf': 2}\n"
     ]
    }
   ],
   "source": [
    "paramGrid = dict(min_samples_leaf=range(1, 90, 1))\n",
    "\n",
    "gridSearch = GridSearchCV(dtc, \n",
    "                           paramGrid, \n",
    "                           cv=5,\n",
    "                           scoring=\"roc_auc\", \n",
    "                           n_jobs=-1,\n",
    "                           verbose=1)\n",
    "               \n",
    "gridSearchResult = gridSearch.fit(x_train_oversample, y_train_oversample)\n",
    "print(f'Best score: {gridSearchResult.best_score_} using {gridSearchResult.best_params_}')"
   ]
  },
  {
   "cell_type": "code",
   "execution_count": 105,
   "metadata": {},
   "outputs": [
    {
     "name": "stdout",
     "output_type": "stream",
     "text": [
      "Fitting 5 folds for each of 20 candidates, totalling 100 fits\n",
      "Best score: 0.6667909645727985 using {'max_depth': 48}\n"
     ]
    }
   ],
   "source": [
    "paramGrid = dict(max_depth=range(30, 50, 1))\n",
    "\n",
    "gridSearch = GridSearchCV(dtc, \n",
    "                           paramGrid, \n",
    "                           cv=5,\n",
    "                           scoring=\"roc_auc\", \n",
    "                           n_jobs=-1,\n",
    "                           verbose=1)\n",
    "               \n",
    "gridSearchResult = gridSearch.fit(x_train_oversample, y_train_oversample)\n",
    "print(f'Best score: {gridSearchResult.best_score_} using {gridSearchResult.best_params_}')"
   ]
  },
  {
   "cell_type": "code",
   "execution_count": 636,
   "metadata": {},
   "outputs": [
    {
     "name": "stdout",
     "output_type": "stream",
     "text": [
      "[ Metrics Evaluation ]\n",
      "\n",
      "ROC Auc:    0.8407288166068667\n",
      "f1 Score:     0.7898647922355475\n",
      "Classification Report:\n",
      "              precision    recall  f1-score   support\n",
      "\n",
      "           0       0.75      0.88      0.81     67228\n",
      "           1       0.85      0.71      0.77     67228\n",
      "\n",
      "    accuracy                           0.79    134456\n",
      "   macro avg       0.80      0.79      0.79    134456\n",
      "weighted avg       0.80      0.79      0.79    134456\n",
      "\n",
      "[58827  8401 19655 47573]\n"
     ]
    }
   ],
   "source": [
    "# Decision Tree Classifier (oversample train & test set)\n",
    "\n",
    "dtc_params =  {\n",
    "    'min_samples_split': 19,\n",
    "    'criterion': 'entropy',\n",
    "    'min_samples_leaf': 2,\n",
    "    'max_depth': 48\n",
    "}\n",
    "\n",
    "dtc =  DecisionTreeClassifier()\n",
    "dtc.set_params(**dtc_params)\n",
    "\n",
    "dtc.fit(x_train_oversample, y_train_oversample)\n",
    "\n",
    "y_pred_oversample = dtc.predict(x_test_oversample)\n",
    "y_predproba_oversample = dtc.predict_proba(x_test_oversample)         \n",
    "\n",
    "roc_dtc_oversample_2, f1_dtc_oversample_2 = print_results(y_test_oversample, y_pred_oversample, y_predproba_oversample)  \n",
    "print(confusion_matrix(y_test_oversample, y_pred_oversample).ravel())"
   ]
  },
  {
   "cell_type": "code",
   "execution_count": 637,
   "metadata": {},
   "outputs": [
    {
     "data": {
      "text/plain": [
       "<sklearn.metrics._plot.confusion_matrix.ConfusionMatrixDisplay at 0x204075f61c0>"
      ]
     },
     "execution_count": 637,
     "metadata": {},
     "output_type": "execute_result"
    },
    {
     "data": {
      "image/png": "[encoded data removed]",
      "text/plain": [
       "<Figure size 432x288 with 2 Axes>"
      ]
     },
     "metadata": {
      "needs_background": "light"
     },
     "output_type": "display_data"
    }
   ],
   "source": [
    "cm = confusion_matrix(y_test_oversample, y_pred_oversample, labels=dtc.classes_)\n",
    "cm_display = ConfusionMatrixDisplay(confusion_matrix=cm, display_labels=dtc.classes_)\n",
    "cm_display.plot()"
   ]
  },
  {
   "cell_type": "code",
   "execution_count": 638,
   "metadata": {},
   "outputs": [
    {
     "name": "stdout",
     "output_type": "stream",
     "text": [
      "[ Metrics Evaluation ]\n",
      "\n",
      "ROC Auc:    0.5731313176388144\n",
      "f1 Score:     0.8918465210224881\n",
      "Classification Report:\n",
      "              precision    recall  f1-score   support\n",
      "\n",
      "           0       0.96      0.89      0.92     67228\n",
      "           1       0.07      0.22      0.11      2772\n",
      "\n",
      "    accuracy                           0.86     70000\n",
      "   macro avg       0.52      0.55      0.52     70000\n",
      "weighted avg       0.93      0.86      0.89     70000\n",
      "\n",
      "[59612  7616  2173   599]\n"
     ]
    }
   ],
   "source": [
    "# Decision Tree Classifier\n",
    "\n",
    "dtc_params =  {\n",
    "    'min_samples_split': 4,\n",
    "    'criterion': 'entropy',\n",
    "    'min_samples_leaf': 2,\n",
    "    'max_depth': 48\n",
    "}\n",
    "\n",
    "dtc =  DecisionTreeClassifier()\n",
    "dtc.set_params(**dtc_params)\n",
    "\n",
    "dtc.fit(x_train_oversample, y_train_oversample)\n",
    "y_pred = dtc.predict(x_test)\n",
    "y_predproba = dtc.predict_proba(x_test)      \n",
    "\n",
    "roc_dtc_2, f1_dtc_2 = print_results(y_test, y_pred, y_predproba)  \n",
    "print(confusion_matrix(y_test, y_pred).ravel()) "
   ]
  },
  {
   "cell_type": "code",
   "execution_count": 639,
   "metadata": {},
   "outputs": [
    {
     "data": {
      "text/plain": [
       "<sklearn.metrics._plot.confusion_matrix.ConfusionMatrixDisplay at 0x204061e12e0>"
      ]
     },
     "execution_count": 639,
     "metadata": {},
     "output_type": "execute_result"
    },
    {
     "data": {
      "image/png": "[encoded data removed]",
      "text/plain": [
       "<Figure size 432x288 with 2 Axes>"
      ]
     },
     "metadata": {
      "needs_background": "light"
     },
     "output_type": "display_data"
    }
   ],
   "source": [
    "cm = confusion_matrix(y_test, y_pred, labels=dtc.classes_)\n",
    "cm_display = ConfusionMatrixDisplay(confusion_matrix=cm, display_labels=dtc.classes_)\n",
    "cm_display.plot()"
   ]
  },
  {
   "cell_type": "markdown",
   "metadata": {},
   "source": [
    "### Random Forest Classifier"
   ]
  },
  {
   "cell_type": "code",
   "execution_count": 246,
   "metadata": {},
   "outputs": [
    {
     "name": "stdout",
     "output_type": "stream",
     "text": [
      "Fitting 5 folds for each of 3 candidates, totalling 15 fits\n",
      "Best score: 0.7851194349109762 using {'min_samples_split': 2}\n"
     ]
    }
   ],
   "source": [
    "paramGrid = dict(min_samples_split=range(2, 5, 1))\n",
    "\n",
    "gridSearch = GridSearchCV(rfc, \n",
    "                           paramGrid, \n",
    "                           cv=5,\n",
    "                           scoring=\"roc_auc\", \n",
    "                           n_jobs=-1,\n",
    "                           verbose=1)\n",
    "               \n",
    "gridSearchResult = gridSearch.fit(x_train_oversample, y_train_oversample)\n",
    "print(f'Best score: {gridSearchResult.best_score_} using {gridSearchResult.best_params_}')"
   ]
  },
  {
   "cell_type": "code",
   "execution_count": 10,
   "metadata": {},
   "outputs": [
    {
     "name": "stdout",
     "output_type": "stream",
     "text": [
      "Fitting 5 folds for each of 5 candidates, totalling 25 fits\n",
      "Best score: 0.7944248631008209 using {'max_leaf_nodes': -22}\n"
     ]
    }
   ],
   "source": [
    "paramGrid = dict(max_leaf_nodes=range(-25, -20, 1))\n",
    "\n",
    "gridSearch = GridSearchCV(rfc, \n",
    "                           paramGrid, \n",
    "                           cv=5,\n",
    "                           scoring=\"roc_auc\", \n",
    "                           n_jobs=-1,\n",
    "                           verbose=1)\n",
    "               \n",
    "gridSearchResult = gridSearch.fit(x_train_oversample, y_train_oversample)\n",
    "print(f'Best score: {gridSearchResult.best_score_} using {gridSearchResult.best_params_}')"
   ]
  },
  {
   "cell_type": "code",
   "execution_count": 14,
   "metadata": {},
   "outputs": [
    {
     "name": "stdout",
     "output_type": "stream",
     "text": [
      "Fitting 5 folds for each of 20 candidates, totalling 100 fits\n",
      "Best score: 0.7960349842291814 using {'max_depth': 41}\n"
     ]
    }
   ],
   "source": [
    "paramGrid = dict(max_depth=range(30, 50, 1))\n",
    "\n",
    "gridSearch = GridSearchCV(rfc, \n",
    "                           paramGrid, \n",
    "                           cv=5,\n",
    "                           scoring=\"roc_auc\", \n",
    "                           n_jobs=-1,\n",
    "                           verbose=1)\n",
    "               \n",
    "gridSearchResult = gridSearch.fit(x_train_oversample, y_train_oversample)\n",
    "print(f'Best score: {gridSearchResult.best_score_} using {gridSearchResult.best_params_}')"
   ]
  },
  {
   "cell_type": "code",
   "execution_count": 640,
   "metadata": {},
   "outputs": [
    {
     "name": "stdout",
     "output_type": "stream",
     "text": [
      "[ Metrics Evaluation ]\n",
      "\n",
      "ROC Auc:    0.8935911275185742\n",
      "f1 Score:     0.8092919151300325\n",
      "Classification Report:\n",
      "              precision    recall  f1-score   support\n",
      "\n",
      "           0       0.76      0.92      0.83     67228\n",
      "           1       0.89      0.71      0.79     67228\n",
      "\n",
      "    accuracy                           0.81    134456\n",
      "   macro avg       0.83      0.81      0.81    134456\n",
      "weighted avg       0.83      0.81      0.81    134456\n",
      "\n",
      "[61661  5567 19788 47440]\n"
     ]
    }
   ],
   "source": [
    "# Random Forest Classifier (oversample train & test set)\n",
    "\n",
    "rfc_params =  {\n",
    "    'min_samples_split': 2,\n",
    "    'max_leaf_nodes':-22,\n",
    "    'max_depth': 41\n",
    "}\n",
    "\n",
    "rfc = RandomForestClassifier()\n",
    "rfc.set_params(**rfc_params)\n",
    "\n",
    "rfc.fit(x_train_oversample, y_train_oversample)\n",
    "\n",
    "y_pred_oversample = rfc.predict(x_test_oversample)\n",
    "y_predproba_oversample = rfc.predict_proba(x_test_oversample)      \n",
    "\n",
    "roc_rfc_oversample_2, f1_rfc_oversample_2 = print_results(y_test_oversample, y_pred_oversample, y_predproba_oversample)  \n",
    "print(confusion_matrix(y_test_oversample, y_pred_oversample).ravel())"
   ]
  },
  {
   "cell_type": "code",
   "execution_count": 641,
   "metadata": {},
   "outputs": [
    {
     "data": {
      "text/plain": [
       "<sklearn.metrics._plot.confusion_matrix.ConfusionMatrixDisplay at 0x20406c890d0>"
      ]
     },
     "execution_count": 641,
     "metadata": {},
     "output_type": "execute_result"
    },
    {
     "data": {
      "image/png": "[encoded data removed]",
      "text/plain": [
       "<Figure size 432x288 with 2 Axes>"
      ]
     },
     "metadata": {
      "needs_background": "light"
     },
     "output_type": "display_data"
    }
   ],
   "source": [
    "cm = confusion_matrix(y_test_oversample, y_pred_oversample, labels=rfc.classes_)\n",
    "cm_display = ConfusionMatrixDisplay(confusion_matrix=cm, display_labels=rfc.classes_)\n",
    "cm_display.plot()"
   ]
  },
  {
   "cell_type": "code",
   "execution_count": 642,
   "metadata": {},
   "outputs": [
    {
     "name": "stdout",
     "output_type": "stream",
     "text": [
      "[ Metrics Evaluation ]\n",
      "\n",
      "ROC Auc:    0.5966871952231476\n",
      "f1 Score:     0.9089187544497084\n",
      "Classification Report:\n",
      "              precision    recall  f1-score   support\n",
      "\n",
      "           0       0.97      0.92      0.94     67228\n",
      "           1       0.09      0.21      0.13      2772\n",
      "\n",
      "    accuracy                           0.89     70000\n",
      "   macro avg       0.53      0.56      0.54     70000\n",
      "weighted avg       0.93      0.89      0.91     70000\n",
      "\n",
      "[61687  5541  2192   580]\n"
     ]
    }
   ],
   "source": [
    "# Random Forest Classifier\n",
    "\n",
    "rfc_params =  {\n",
    "    'min_samples_split': 2,\n",
    "    'max_leaf_nodes':-22,\n",
    "    'max_depth': 41\n",
    "}\n",
    "\n",
    "rfc = RandomForestClassifier()\n",
    "rfc.set_params(**rfc_params)\n",
    "\n",
    "rfc.fit(x_train_oversample, y_train_oversample)\n",
    "\n",
    "y_pred = rfc.predict(x_test)\n",
    "y_predproba = rfc.predict_proba(x_test)      \n",
    "\n",
    "roc_rfc_2, f1_rfc_2 = print_results(y_test, y_pred, y_predproba)  \n",
    "print(confusion_matrix(y_test, y_pred).ravel()) "
   ]
  },
  {
   "cell_type": "code",
   "execution_count": 643,
   "metadata": {},
   "outputs": [
    {
     "data": {
      "text/plain": [
       "<sklearn.metrics._plot.confusion_matrix.ConfusionMatrixDisplay at 0x20407a874f0>"
      ]
     },
     "execution_count": 643,
     "metadata": {},
     "output_type": "execute_result"
    },
    {
     "data": {
      "image/png": "[encoded data removed]",
      "text/plain": [
       "<Figure size 432x288 with 2 Axes>"
      ]
     },
     "metadata": {
      "needs_background": "light"
     },
     "output_type": "display_data"
    }
   ],
   "source": [
    "cm = confusion_matrix(y_test, y_pred, labels=rfc.classes_)\n",
    "cm_display = ConfusionMatrixDisplay(confusion_matrix=cm, display_labels=rfc.classes_)\n",
    "cm_display.plot()"
   ]
  },
  {
   "cell_type": "markdown",
   "metadata": {},
   "source": [
    "## Plot the comparison of the metrics evaluations "
   ]
  },
  {
   "cell_type": "code",
   "execution_count": 646,
   "metadata": {},
   "outputs": [
    {
     "data": {
      "image/png": "[encoded data removed]",
      "text/plain": [
       "<Figure size 1008x576 with 2 Axes>"
      ]
     },
     "metadata": {
      "needs_background": "light"
     },
     "output_type": "display_data"
    },
    {
     "data": {
      "text/plain": [
       "<Figure size 720x360 with 0 Axes>"
      ]
     },
     "metadata": {},
     "output_type": "display_data"
    }
   ],
   "source": [
    "# Plot the comparison between ROC AUC and F1 Score for Oversampled Train Test Data\n",
    "\n",
    "fig, axs = plt.subplots(nrows=2, figsize=(14,8))\n",
    "\n",
    "labelArr = np.array(['ROC', 'ROC', 'ROC', 'ROC', 'F1', 'F1', 'F1', 'F1'])\n",
    "metricsArr = np.array([roc_lgbm_oversample_1, roc_xgb_oversample_1, roc_rfc_oversample_1, roc_dtc_oversample_1, f1_lgbm_oversample_1, f1_xgb_oversample_1, f1_rfc_oversample_1, f1_dtc_oversample_1])\n",
    "xArr = np.array(['LGBM', 'XGB', 'RFC', 'DTC', 'LGBM', 'XGB', 'RFC', 'DTC'])\n",
    "\n",
    "metricsArr2 = np.array([roc_lgbm_1, roc_xgb_1, roc_rfc_1, roc_dtc_1, f1_lgbm_1, f1_xgb_1, f1_rfc_1, f1_dtc_1])\n",
    "\n",
    "# Plot ROC and F1 from all models\n",
    "plt.figure(figsize=(10, 5))\n",
    "bar = sns.barplot(metricsArr, xArr, hue=labelArr, palette='husl', ax=axs[0])\n",
    "bar2 = sns.barplot(metricsArr2, xArr, hue=labelArr, palette='husl', ax=axs[1])\n",
    "axs[0].set(xlim = (None, 1.1))\n",
    "axs[1].set(xlim = (None, 1.1))\n",
    "axs[0].set_title('Comparison between ROC AUC and F1 Score of Oversampled Train Test Data (+Age)')\n",
    "axs[1].set_title('Comparison between ROC AUC and F1 Score of Oversampled Train Data (+Age)')\n",
    "# Put the exact value in the graph\n",
    "for p in bar.patches: \n",
    "    width, height = p.get_width(), p.get_height()\n",
    "    x, y = p.get_xy() \n",
    "    bar.text(x+width, \n",
    "           y+height/2, \n",
    "           \" %.2f\"%width, \n",
    "           horizontalalignment=\"left\",fontsize=12)\n",
    "    \n",
    "for p in bar2.patches: \n",
    "    width, height = p.get_width(), p.get_height()\n",
    "    x, y = p.get_xy() \n",
    "    bar2.text(x+width, \n",
    "           y+height/2, \n",
    "           \" %.2f\"%width, \n",
    "           horizontalalignment=\"left\",fontsize=12)"
   ]
  },
  {
   "cell_type": "code",
   "execution_count": 647,
   "metadata": {},
   "outputs": [
    {
     "data": {
      "image/png": "[encoded data removed]",
      "text/plain": [
       "<Figure size 1008x576 with 2 Axes>"
      ]
     },
     "metadata": {
      "needs_background": "light"
     },
     "output_type": "display_data"
    },
    {
     "data": {
      "text/plain": [
       "<Figure size 720x360 with 0 Axes>"
      ]
     },
     "metadata": {},
     "output_type": "display_data"
    }
   ],
   "source": [
    "# Plot the comparison between ROC AUC and F1 Score for Oversampled Train Test Data\n",
    "\n",
    "fig, axs = plt.subplots(nrows=2, figsize=(14,8))\n",
    "\n",
    "labelArr = np.array(['ROC', 'ROC', 'ROC', 'ROC', 'F1', 'F1', 'F1', 'F1'])\n",
    "metricsArr = np.array([roc_lgbm_oversample_2, roc_xgb_oversample_2, roc_rfc_oversample_2, roc_dtc_oversample_2, f1_lgbm_oversample_2, f1_xgb_oversample_2, f1_rfc_oversample_2, f1_dtc_oversample_2])\n",
    "xArr = np.array(['LGBM', 'XGB', 'RFC', 'DTC', 'LGBM', 'XGB', 'RFC', 'DTC'])\n",
    "\n",
    "metricsArr2 = np.array([roc_lgbm_2, roc_xgb_2, roc_rfc_2, roc_dtc_2, f1_lgbm_2, f1_xgb_2, f1_rfc_2, f1_dtc_2])\n",
    "\n",
    "# Plot ROC and F1 from all models\n",
    "plt.figure(figsize=(10, 5))\n",
    "bar = sns.barplot(metricsArr, xArr, hue=labelArr, palette='husl', ax=axs[0])\n",
    "bar2 = sns.barplot(metricsArr2, xArr, hue=labelArr, palette='husl', ax=axs[1])\n",
    "axs[0].set(xlim = (None, 1.1))\n",
    "axs[1].set(xlim = (None, 1.1))\n",
    "axs[0].set_title('Comparison between ROC AUC and F1 Score of Oversampled Train Test Data (+Age, Gender)')\n",
    "axs[1].set_title('Comparison between ROC AUC and F1 Score of Oversampled Train Data (+Age, Gender)')\n",
    "# Put the exact value in the graph\n",
    "for p in bar.patches: \n",
    "    width, height = p.get_width(), p.get_height()\n",
    "    x, y = p.get_xy() \n",
    "    bar.text(x+width, \n",
    "           y+height/2, \n",
    "           \" %.2f\"%width, \n",
    "           horizontalalignment=\"left\",fontsize=12)\n",
    "    \n",
    "for p in bar2.patches: \n",
    "    width, height = p.get_width(), p.get_height()\n",
    "    x, y = p.get_xy() \n",
    "    bar2.text(x+width, \n",
    "           y+height/2, \n",
    "           \" %.2f\"%width, \n",
    "           horizontalalignment=\"left\",fontsize=12)"
   ]
  },
  {
   "cell_type": "code",
   "execution_count": null,
   "metadata": {},
   "outputs": [],
   "source": []
  }
 ],
 "metadata": {
  "kernelspec": {
   "display_name": "Python 3",
   "language": "python",
   "name": "python3"
  },
  "language_info": {
   "codemirror_mode": {
    "name": "ipython",
    "version": 3
   },
   "file_extension": ".py",
   "mimetype": "text/x-python",
   "name": "python",
   "nbconvert_exporter": "python",
   "pygments_lexer": "ipython3",
   "version": "3.8.3"
  }
 },
 "nbformat": 4,
 "nbformat_minor": 4
}
