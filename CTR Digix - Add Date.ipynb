{
 "cells": [
  {
   "cell_type": "code",
   "execution_count": 1,
   "metadata": {},
   "outputs": [],
   "source": [
    "import pandas as pd\n",
    "import numpy as np\n",
    "import matplotlib.pyplot as plt\n",
    "\n",
    "from sklearn.metrics import accuracy_score, f1_score, log_loss, classification_report, precision_recall_curve, auc, roc_auc_score\n",
    "from sklearn.metrics import confusion_matrix, average_precision_score, plot_confusion_matrix, ConfusionMatrixDisplay\n",
    "from sklearn.model_selection import GridSearchCV, StratifiedKFold, train_test_split, RepeatedStratifiedKFold, cross_val_score\n",
    "from imblearn.over_sampling import SMOTE\n",
    "from imblearn.under_sampling import RandomUnderSampler\n",
    "import seaborn as sns\n",
    "from sklearn.preprocessing import StandardScaler\n",
    "from sklearn.feature_selection import SelectFromModel\n",
    "from sklearn.preprocessing import LabelEncoder\n",
    "\n",
    "# Importing models\n",
    "from sklearn.linear_model import LogisticRegression\n",
    "import lightgbm as lgb\n",
    "from lightgbm import LGBMClassifier\n",
    "from sklearn.tree import DecisionTreeClassifier\n",
    "from xgboost import XGBClassifier\n",
    "from sklearn.ensemble import RandomForestClassifier"
   ]
  },
  {
   "cell_type": "code",
   "execution_count": 2,
   "metadata": {},
   "outputs": [],
   "source": [
    "# Features variable\n",
    "ageGroup = pd.read_csv('ageGroup.csv', sep=',')\n",
    "ageGroup = ageGroup.drop('communication_onlinerate', axis=1)\n",
    "ageGroup = ageGroup.drop('uid', axis=1)\n",
    "ageGroup[ageGroup < 0] = 0\n",
    "x = ageGroup.loc[:, ['task_id', 'adv_id', 'adv_prim_id', 'dev_id', 'slot_id', 'tags',\n",
    "       'device_size', 'career', 'up_life_duration', 'indu_name', 'age', 'pt_d']]\n",
    "\n",
    "# Target variable\n",
    "y = ageGroup[\"label\"]\n",
    "y = LabelEncoder().fit_transform(y)\n",
    "\n"
   ]
  },
  {
   "cell_type": "code",
   "execution_count": 3,
   "metadata": {},
   "outputs": [],
   "source": [
    "# Function for printing ROC and f1 score\n",
    "def print_results(ytest, ypred, ypredproba):\n",
    "    roc = roc_auc_score(ytest, ypredproba[:,1], average='weighted')\n",
    "    f1 = f1_score(ytest, ypred, average='weighted')\n",
    "    print('[ Metrics Evaluation ]\\n')\n",
    "    print('ROC Auc:    {}'.format(roc))\n",
    "    print('f1 Score:     {}'.format(f1))\n",
    "    print(('Classification Report:\\n{}'.format(classification_report(ytest, ypred))))\n",
    "    return roc, f1"
   ]
  },
  {
   "cell_type": "code",
   "execution_count": 4,
   "metadata": {},
   "outputs": [],
   "source": [
    "# Train test split with stratifiedKfold, train: 80% test: 20%\n",
    "\n",
    "cv = StratifiedKFold(n_splits=5, shuffle=True)\n",
    "for train_idx, test_idx in cv.split(x, y):\n",
    "    x_train, y_train = x.iloc[train_idx], y[train_idx]\n",
    "    x_test, y_test = x.iloc[test_idx], y[test_idx]\n",
    "\n",
    "# Oversample\n",
    "over = SMOTE()\n",
    "\n",
    "# Resample the train and test data with oversampling method\n",
    "x_train_oversample, y_train_oversample = over.fit_resample(x_train, y_train)  \n",
    "x_test_oversample, y_test_oversample = over.fit_resample(x_test, y_test)  "
   ]
  },
  {
   "cell_type": "code",
   "execution_count": 5,
   "metadata": {
    "scrolled": true
   },
   "outputs": [
    {
     "name": "stdout",
     "output_type": "stream",
     "text": [
      "[ Metrics Evaluation ]\n",
      "\n",
      "ROC Auc:    0.951555724732718\n",
      "f1 Score:     0.8810183233552006\n",
      "Classification Report:\n",
      "              precision    recall  f1-score   support\n",
      "\n",
      "           0       0.88      0.89      0.88     67228\n",
      "           1       0.89      0.87      0.88     67228\n",
      "\n",
      "    accuracy                           0.88    134456\n",
      "   macro avg       0.88      0.88      0.88    134456\n",
      "weighted avg       0.88      0.88      0.88    134456\n",
      "\n",
      "[59705  7523  8474 58754]\n"
     ]
    }
   ],
   "source": [
    "# LightGBM (oversample train & test data)\n",
    "\n",
    "lgbm_params = {\n",
    "    'max_depth': 16, \n",
    "    'num_leaves': 242, \n",
    "    'metrics' : 'auc', \n",
    "    'application':'binary', \n",
    "}\n",
    "\n",
    "lgbm = LGBMClassifier()\n",
    "lgbm.set_params(**lgbm_params)\n",
    "\n",
    "lgbm.fit(x_train_oversample, y_train_oversample)\n",
    "\n",
    "y_pred_oversample = lgbm.predict(x_test_oversample)\n",
    "y_predproba_oversample = lgbm.predict_proba(x_test_oversample)      \n",
    "\n",
    "roc_lgbm_oversample_1, f1_lgbm_oversample_1 = print_results(y_test_oversample, y_pred_oversample, y_predproba_oversample)  \n",
    "print(confusion_matrix(y_test_oversample, y_pred_oversample).ravel())"
   ]
  },
  {
   "cell_type": "code",
   "execution_count": 6,
   "metadata": {},
   "outputs": [
    {
     "data": {
      "text/plain": [
       "<sklearn.metrics._plot.confusion_matrix.ConfusionMatrixDisplay at 0x1ffff8e5e80>"
      ]
     },
     "execution_count": 6,
     "metadata": {},
     "output_type": "execute_result"
    },
    {
     "data": {
      "image/png": "[encoded data removed]",
      "text/plain": [
       "<Figure size 432x288 with 2 Axes>"
      ]
     },
     "metadata": {
      "needs_background": "light"
     },
     "output_type": "display_data"
    }
   ],
   "source": [
    "cm = confusion_matrix(y_test_oversample, y_pred_oversample, labels=lgbm.classes_)\n",
    "cm_display = ConfusionMatrixDisplay(confusion_matrix=cm, display_labels=lgbm.classes_)\n",
    "cm_display.plot()"
   ]
  },
  {
   "cell_type": "code",
   "execution_count": 7,
   "metadata": {},
   "outputs": [
    {
     "name": "stdout",
     "output_type": "stream",
     "text": [
      "[ Metrics Evaluation ]\n",
      "\n",
      "ROC Auc:    0.6623086452975041\n",
      "f1 Score:     0.8954227691907503\n",
      "Classification Report:\n",
      "              precision    recall  f1-score   support\n",
      "\n",
      "           0       0.97      0.89      0.93     67228\n",
      "           1       0.10      0.29      0.14      2772\n",
      "\n",
      "    accuracy                           0.86     70000\n",
      "   macro avg       0.53      0.59      0.54     70000\n",
      "weighted avg       0.93      0.86      0.90     70000\n",
      "\n",
      "[59705  7523  1968   804]\n"
     ]
    }
   ],
   "source": [
    "# LightGBM Classifier (oversample train data)\n",
    "\n",
    "lgbm_params = {\n",
    "      'max_depth': 16, \n",
    "    'num_leaves': 242, \n",
    "    'metrics' : 'auc', \n",
    "    'application':'binary', \n",
    "}\n",
    "\n",
    "lgbm = LGBMClassifier()\n",
    "lgbm.set_params(**lgbm_params)\n",
    "\n",
    "lgbm.fit(x_train_oversample, y_train_oversample)\n",
    "\n",
    "\n",
    "y_pred = lgbm.predict(x_test)\n",
    "y_predproba = lgbm.predict_proba(x_test)      \n",
    "\n",
    "roc_lgbm_1, f1_lgbm_1 = print_results(y_test,y_pred, y_predproba) \n",
    "print(confusion_matrix(y_test, y_pred).ravel())"
   ]
  },
  {
   "cell_type": "code",
   "execution_count": 8,
   "metadata": {},
   "outputs": [
    {
     "data": {
      "text/plain": [
       "<sklearn.metrics._plot.confusion_matrix.ConfusionMatrixDisplay at 0x1fff93f5250>"
      ]
     },
     "execution_count": 8,
     "metadata": {},
     "output_type": "execute_result"
    },
    {
     "data": {
      "image/png": "[encoded data removed]",
      "text/plain": [
       "<Figure size 432x288 with 2 Axes>"
      ]
     },
     "metadata": {
      "needs_background": "light"
     },
     "output_type": "display_data"
    }
   ],
   "source": [
    "cm = confusion_matrix(y_test, y_pred, labels=lgbm.classes_)\n",
    "cm_display = ConfusionMatrixDisplay(confusion_matrix=cm, display_labels=lgbm.classes_)\n",
    "cm_display.plot()"
   ]
  },
  {
   "cell_type": "code",
   "execution_count": 9,
   "metadata": {},
   "outputs": [
    {
     "name": "stdout",
     "output_type": "stream",
     "text": [
      "[ Metrics Evaluation ]\n",
      "\n",
      "ROC Auc:    0.9516645589362769\n",
      "f1 Score:     0.8809139304851015\n",
      "Classification Report:\n",
      "              precision    recall  f1-score   support\n",
      "\n",
      "           0       0.89      0.87      0.88     67228\n",
      "           1       0.87      0.89      0.88     67228\n",
      "\n",
      "    accuracy                           0.88    134456\n",
      "   macro avg       0.88      0.88      0.88    134456\n",
      "weighted avg       0.88      0.88      0.88    134456\n",
      "\n",
      "[58503  8725  7285 59943]\n"
     ]
    }
   ],
   "source": [
    "# xgboost classifier (oversample train & test set)\n",
    "\n",
    "xgb_params =  {\n",
    "    'use_label_encoder': False,\n",
    "    'eval_metric': 'mlogloss'\n",
    "}\n",
    "\n",
    "xgbc = XGBClassifier()\n",
    "xgbc.set_params(**xgb_params)\n",
    "\n",
    "xgbc.fit(x_train_oversample, y_train_oversample)\n",
    "\n",
    "y_pred_oversample = xgbc.predict(x_test_oversample)\n",
    "y_predproba_oversample = xgbc.predict_proba(x_test_oversample)      \n",
    "\n",
    "roc_xgb_oversample_1, f1_xgb_oversample_1 = print_results(y_test_oversample, y_pred_oversample, y_predproba_oversample)  \n",
    "print(confusion_matrix(y_test_oversample, y_pred_oversample).ravel())"
   ]
  },
  {
   "cell_type": "code",
   "execution_count": 10,
   "metadata": {},
   "outputs": [
    {
     "data": {
      "text/plain": [
       "<sklearn.metrics._plot.confusion_matrix.ConfusionMatrixDisplay at 0x1ff8fd81850>"
      ]
     },
     "execution_count": 10,
     "metadata": {},
     "output_type": "execute_result"
    },
    {
     "data": {
      "image/png": "[encoded data removed]",
      "text/plain": [
       "<Figure size 432x288 with 2 Axes>"
      ]
     },
     "metadata": {
      "needs_background": "light"
     },
     "output_type": "display_data"
    }
   ],
   "source": [
    "cm = confusion_matrix(y_test_oversample, y_pred_oversample, labels=xgbc.classes_)\n",
    "cm_display = ConfusionMatrixDisplay(confusion_matrix=cm, display_labels=xgbc.classes_)\n",
    "cm_display.plot()"
   ]
  },
  {
   "cell_type": "code",
   "execution_count": 11,
   "metadata": {},
   "outputs": [
    {
     "name": "stdout",
     "output_type": "stream",
     "text": [
      "[ Metrics Evaluation ]\n",
      "\n",
      "ROC Auc:    0.6640314015942475\n",
      "f1 Score:     0.8867249850659107\n",
      "Classification Report:\n",
      "              precision    recall  f1-score   support\n",
      "\n",
      "           0       0.97      0.87      0.92     67228\n",
      "           1       0.10      0.33      0.15      2772\n",
      "\n",
      "    accuracy                           0.85     70000\n",
      "   macro avg       0.53      0.60      0.53     70000\n",
      "weighted avg       0.93      0.85      0.89     70000\n",
      "\n",
      "[58503  8725  1846   926]\n"
     ]
    }
   ],
   "source": [
    "# xgboost classifier\n",
    "\n",
    "xgb_params =  {\n",
    "    'use_label_encoder': False,\n",
    "    'eval_metric': 'mlogloss'\n",
    "}\n",
    "\n",
    "xgbc = XGBClassifier()\n",
    "xgbc.set_params(**xgb_params)\n",
    "\n",
    "xgbc.fit(x_train_oversample, y_train_oversample)\n",
    "\n",
    "y_pred = xgbc.predict(x_test)\n",
    "y_predproba = xgbc.predict_proba(x_test)      \n",
    "\n",
    "roc_xgb_1, f1_xgb_1 = print_results(y_test,y_pred, y_predproba)\n",
    "print(confusion_matrix(y_test, y_pred).ravel())"
   ]
  },
  {
   "cell_type": "code",
   "execution_count": 12,
   "metadata": {},
   "outputs": [
    {
     "data": {
      "text/plain": [
       "<sklearn.metrics._plot.confusion_matrix.ConfusionMatrixDisplay at 0x1ff830815e0>"
      ]
     },
     "execution_count": 12,
     "metadata": {},
     "output_type": "execute_result"
    },
    {
     "data": {
      "image/png": "[encoded data removed]",
      "text/plain": [
       "<Figure size 432x288 with 2 Axes>"
      ]
     },
     "metadata": {
      "needs_background": "light"
     },
     "output_type": "display_data"
    }
   ],
   "source": [
    "cm = confusion_matrix(y_test, y_pred, labels=xgbc.classes_)\n",
    "cm_display = ConfusionMatrixDisplay(confusion_matrix=cm, display_labels=xgbc.classes_)\n",
    "cm_display.plot()"
   ]
  },
  {
   "cell_type": "code",
   "execution_count": 13,
   "metadata": {},
   "outputs": [
    {
     "name": "stdout",
     "output_type": "stream",
     "text": [
      "[ Metrics Evaluation ]\n",
      "\n",
      "ROC Auc:    0.8180367019076422\n",
      "f1 Score:     0.7626060213128433\n",
      "Classification Report:\n",
      "              precision    recall  f1-score   support\n",
      "\n",
      "           0       0.72      0.87      0.79     67228\n",
      "           1       0.84      0.66      0.74     67228\n",
      "\n",
      "    accuracy                           0.77    134456\n",
      "   macro avg       0.78      0.77      0.76    134456\n",
      "weighted avg       0.78      0.77      0.76    134456\n",
      "\n",
      "[58452  8776 22796 44432]\n"
     ]
    }
   ],
   "source": [
    "# Decision Tree Classifier (oversample train & test set)\n",
    "\n",
    "dtc_params =  {\n",
    "    'min_samples_split': 19,\n",
    "    'criterion': 'entropy',\n",
    "    'min_samples_leaf': 2,\n",
    "    'max_depth': 48,\n",
    "}\n",
    "\n",
    "dtc =  DecisionTreeClassifier()\n",
    "dtc.set_params(**dtc_params)\n",
    "\n",
    "dtc.fit(x_train_oversample, y_train_oversample)\n",
    "\n",
    "y_pred_oversample = dtc.predict(x_test_oversample)\n",
    "y_predproba_oversample = dtc.predict_proba(x_test_oversample)         \n",
    "\n",
    "roc_dtc_oversample_1, f1_dtc_oversample_1 = print_results(y_test_oversample, y_pred_oversample, y_predproba_oversample)  \n",
    "print(confusion_matrix(y_test_oversample, y_pred_oversample).ravel())"
   ]
  },
  {
   "cell_type": "code",
   "execution_count": 14,
   "metadata": {},
   "outputs": [
    {
     "data": {
      "text/plain": [
       "<sklearn.metrics._plot.confusion_matrix.ConfusionMatrixDisplay at 0x1ff83117df0>"
      ]
     },
     "execution_count": 14,
     "metadata": {},
     "output_type": "execute_result"
    },
    {
     "data": {
      "image/png": "[encoded data removed]",
      "text/plain": [
       "<Figure size 432x288 with 2 Axes>"
      ]
     },
     "metadata": {
      "needs_background": "light"
     },
     "output_type": "display_data"
    }
   ],
   "source": [
    "cm = confusion_matrix(y_test_oversample, y_pred_oversample, labels=dtc.classes_)\n",
    "cm_display = ConfusionMatrixDisplay(confusion_matrix=cm, display_labels=dtc.classes_)\n",
    "cm_display.plot()"
   ]
  },
  {
   "cell_type": "code",
   "execution_count": 15,
   "metadata": {},
   "outputs": [
    {
     "name": "stdout",
     "output_type": "stream",
     "text": [
      "[ Metrics Evaluation ]\n",
      "\n",
      "ROC Auc:    0.5817333474224946\n",
      "f1 Score:     0.8825335766184028\n",
      "Classification Report:\n",
      "              precision    recall  f1-score   support\n",
      "\n",
      "           0       0.96      0.87      0.91     67228\n",
      "           1       0.07      0.23      0.11      2772\n",
      "\n",
      "    accuracy                           0.84     70000\n",
      "   macro avg       0.52      0.55      0.51     70000\n",
      "weighted avg       0.93      0.84      0.88     70000\n",
      "\n",
      "[58428  8800  2121   651]\n"
     ]
    }
   ],
   "source": [
    "# Decision Tree Classifier (oversample train set)\n",
    "\n",
    "dtc_params =  {\n",
    "    'min_samples_split': 19,\n",
    "    'criterion': 'entropy',\n",
    "    'min_samples_leaf': 2,\n",
    "    'max_depth': 48,\n",
    "}\n",
    "\n",
    "dtc =  DecisionTreeClassifier()\n",
    "dtc.set_params(**dtc_params)\n",
    "\n",
    "dtc.fit(x_train_oversample, y_train_oversample)\n",
    "y_pred = dtc.predict(x_test)\n",
    "y_predproba = dtc.predict_proba(x_test)      \n",
    "\n",
    "roc_dtc_1, f1_dtc_1 = print_results(y_test, y_pred, y_predproba)  \n",
    "print(confusion_matrix(y_test, y_pred).ravel()) "
   ]
  },
  {
   "cell_type": "code",
   "execution_count": 16,
   "metadata": {},
   "outputs": [
    {
     "data": {
      "text/plain": [
       "<sklearn.metrics._plot.confusion_matrix.ConfusionMatrixDisplay at 0x1ff82567610>"
      ]
     },
     "execution_count": 16,
     "metadata": {},
     "output_type": "execute_result"
    },
    {
     "data": {
      "image/png": "[encoded data removed]",
      "text/plain": [
       "<Figure size 432x288 with 2 Axes>"
      ]
     },
     "metadata": {
      "needs_background": "light"
     },
     "output_type": "display_data"
    }
   ],
   "source": [
    "cm = confusion_matrix(y_test, y_pred, labels=dtc.classes_)\n",
    "cm_display = ConfusionMatrixDisplay(confusion_matrix=cm, display_labels=dtc.classes_)\n",
    "cm_display.plot()"
   ]
  },
  {
   "cell_type": "code",
   "execution_count": 17,
   "metadata": {},
   "outputs": [
    {
     "name": "stdout",
     "output_type": "stream",
     "text": [
      "[ Metrics Evaluation ]\n",
      "\n",
      "ROC Auc:    0.8877399491645372\n",
      "f1 Score:     0.7884745202169396\n",
      "Classification Report:\n",
      "              precision    recall  f1-score   support\n",
      "\n",
      "           0       0.73      0.92      0.82     67228\n",
      "           1       0.90      0.66      0.76     67228\n",
      "\n",
      "    accuracy                           0.79    134456\n",
      "   macro avg       0.81      0.79      0.79    134456\n",
      "weighted avg       0.81      0.79      0.79    134456\n",
      "\n",
      "[62047  5181 22773 44455]\n"
     ]
    }
   ],
   "source": [
    "# Random Forest Classifier (oversample train & test set)\n",
    "\n",
    "rfc_params =  {\n",
    "    'min_samples_split': 2,\n",
    "    'max_leaf_nodes':-22,\n",
    "    'max_depth': 41\n",
    "}\n",
    "\n",
    "rfc = RandomForestClassifier()\n",
    "rfc.set_params(**rfc_params)\n",
    "\n",
    "rfc.fit(x_train_oversample, y_train_oversample)\n",
    "\n",
    "y_pred_oversample = rfc.predict(x_test_oversample)\n",
    "y_predproba_oversample = rfc.predict_proba(x_test_oversample)      \n",
    "\n",
    "roc_rfc_oversample_1, f1_rfc_oversample_1 = print_results(y_test_oversample, y_pred_oversample, y_predproba_oversample)  \n",
    "print(confusion_matrix(y_test_oversample, y_pred_oversample).ravel())"
   ]
  },
  {
   "cell_type": "code",
   "execution_count": 18,
   "metadata": {},
   "outputs": [
    {
     "data": {
      "text/plain": [
       "<sklearn.metrics._plot.confusion_matrix.ConfusionMatrixDisplay at 0x1ff8255b700>"
      ]
     },
     "execution_count": 18,
     "metadata": {},
     "output_type": "execute_result"
    },
    {
     "data": {
      "image/png": "[encoded data removed]",
      "text/plain": [
       "<Figure size 432x288 with 2 Axes>"
      ]
     },
     "metadata": {
      "needs_background": "light"
     },
     "output_type": "display_data"
    }
   ],
   "source": [
    "cm = confusion_matrix(y_test_oversample, y_pred_oversample, labels=rfc.classes_)\n",
    "cm_display = ConfusionMatrixDisplay(confusion_matrix=cm, display_labels=rfc.classes_)\n",
    "cm_display.plot()"
   ]
  },
  {
   "cell_type": "code",
   "execution_count": 19,
   "metadata": {},
   "outputs": [
    {
     "name": "stdout",
     "output_type": "stream",
     "text": [
      "[ Metrics Evaluation ]\n",
      "\n",
      "ROC Auc:    0.606970541804242\n",
      "f1 Score:     0.9105831125080978\n",
      "Classification Report:\n",
      "              precision    recall  f1-score   support\n",
      "\n",
      "           0       0.96      0.92      0.94     67228\n",
      "           1       0.09      0.19      0.12      2772\n",
      "\n",
      "    accuracy                           0.89     70000\n",
      "   macro avg       0.53      0.55      0.53     70000\n",
      "weighted avg       0.93      0.89      0.91     70000\n",
      "\n",
      "[62006  5222  2256   516]\n"
     ]
    }
   ],
   "source": [
    "# Random Forest Classifier (oversample train set)\n",
    "\n",
    "rfc_params =  {\n",
    "    'min_samples_split': 2,\n",
    "    'max_leaf_nodes':-22,\n",
    "    'max_depth': 41\n",
    "}\n",
    "\n",
    "rfc = RandomForestClassifier()\n",
    "rfc.set_params(**rfc_params)\n",
    "\n",
    "rfc.fit(x_train_oversample, y_train_oversample)\n",
    "\n",
    "y_pred = rfc.predict(x_test)\n",
    "y_predproba = rfc.predict_proba(x_test)      \n",
    "\n",
    "roc_rfc_1, f1_rfc_1 = print_results(y_test, y_pred, y_predproba)  \n",
    "print(confusion_matrix(y_test, y_pred).ravel()) "
   ]
  },
  {
   "cell_type": "code",
   "execution_count": 20,
   "metadata": {},
   "outputs": [
    {
     "data": {
      "text/plain": [
       "<sklearn.metrics._plot.confusion_matrix.ConfusionMatrixDisplay at 0x1ff8fe32880>"
      ]
     },
     "execution_count": 20,
     "metadata": {},
     "output_type": "execute_result"
    },
    {
     "data": {
      "image/png": "[encoded data removed]",
      "text/plain": [
       "<Figure size 432x288 with 2 Axes>"
      ]
     },
     "metadata": {
      "needs_background": "light"
     },
     "output_type": "display_data"
    }
   ],
   "source": [
    "cm = confusion_matrix(y_test, y_pred, labels=rfc.classes_)\n",
    "cm_display = ConfusionMatrixDisplay(confusion_matrix=cm, display_labels=rfc.classes_)\n",
    "cm_display.plot()"
   ]
  },
  {
   "cell_type": "code",
   "execution_count": 21,
   "metadata": {},
   "outputs": [
    {
     "data": {
      "image/png": "[encoded data removed]",
      "text/plain": [
       "<Figure size 1008x576 with 2 Axes>"
      ]
     },
     "metadata": {
      "needs_background": "light"
     },
     "output_type": "display_data"
    },
    {
     "data": {
      "text/plain": [
       "<Figure size 720x360 with 0 Axes>"
      ]
     },
     "metadata": {},
     "output_type": "display_data"
    }
   ],
   "source": [
    "# Plot the comparison between ROC AUC and F1 Score for Oversampled Train Test Data\n",
    "\n",
    "fig, axs = plt.subplots(nrows=2, figsize=(14,8))\n",
    "\n",
    "labelArr = np.array(['ROC', 'ROC', 'ROC', 'ROC', 'F1', 'F1', 'F1', 'F1'])\n",
    "metricsArr = np.array([roc_lgbm_oversample_1, roc_xgb_oversample_1, roc_rfc_oversample_1, roc_dtc_oversample_1, f1_lgbm_oversample_1, f1_xgb_oversample_1, f1_rfc_oversample_1, f1_dtc_oversample_1])\n",
    "xArr = np.array(['LGBM', 'XGB', 'RFC', 'DTC', 'LGBM', 'XGB', 'RFC', 'DTC'])\n",
    "\n",
    "metricsArr2 = np.array([roc_lgbm_1, roc_xgb_1, roc_rfc_1, roc_dtc_1, f1_lgbm_1, f1_xgb_1, f1_rfc_1, f1_dtc_1])\n",
    "\n",
    "# Plot ROC and F1 from all models\n",
    "plt.figure(figsize=(10, 5))\n",
    "bar = sns.barplot(metricsArr, xArr, hue=labelArr, palette='husl', ax=axs[0])\n",
    "bar2 = sns.barplot(metricsArr2, xArr, hue=labelArr, palette='husl', ax=axs[1])\n",
    "axs[0].set(xlim = (None, 1.1))\n",
    "axs[1].set(xlim = (None, 1.1))\n",
    "axs[0].set_title('Comparison between ROC AUC and F1 Score of Oversampled Train Test Data (+Age, Date)')\n",
    "axs[1].set_title('Comparison between ROC AUC and F1 Score of Oversampled Train Data (+Age, Date)')\n",
    "# Put the exact value in the graph\n",
    "for p in bar.patches: \n",
    "    width, height = p.get_width(), p.get_height()\n",
    "    x, y = p.get_xy() \n",
    "    bar.text(x+width, \n",
    "           y+height/2, \n",
    "           \" %.2f\"%width, \n",
    "           horizontalalignment=\"left\",fontsize=12)\n",
    "    \n",
    "for p in bar2.patches: \n",
    "    width, height = p.get_width(), p.get_height()\n",
    "    x, y = p.get_xy() \n",
    "    bar2.text(x+width, \n",
    "           y+height/2, \n",
    "           \" %.2f\"%width, \n",
    "           horizontalalignment=\"left\",fontsize=12)"
   ]
  }
 ],
 "metadata": {
  "kernelspec": {
   "display_name": "Python 3",
   "language": "python",
   "name": "python3"
  },
  "language_info": {
   "codemirror_mode": {
    "name": "ipython",
    "version": 3
   },
   "file_extension": ".py",
   "mimetype": "text/x-python",
   "name": "python",
   "nbconvert_exporter": "python",
   "pygments_lexer": "ipython3",
   "version": "3.8.3"
  }
 },
 "nbformat": 4,
 "nbformat_minor": 4
}
